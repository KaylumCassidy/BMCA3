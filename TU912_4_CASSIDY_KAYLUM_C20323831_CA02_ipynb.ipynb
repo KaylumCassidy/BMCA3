{
  "nbformat": 4,
  "nbformat_minor": 0,
  "metadata": {
    "colab": {
      "provenance": [],
      "authorship_tag": "ABX9TyO9W26hx59bi3XH39We4u2W",
      "include_colab_link": true
    },
    "kernelspec": {
      "name": "python3",
      "display_name": "Python 3"
    },
    "language_info": {
      "name": "python"
    }
  },
  "cells": [
    {
      "cell_type": "markdown",
      "metadata": {
        "id": "view-in-github",
        "colab_type": "text"
      },
      "source": [
        "<a href=\"https://colab.research.google.com/github/KaylumCassidy/BMCA3/blob/main/TU912_4_CASSIDY_KAYLUM_C20323831_CA02_ipynb.ipynb\" target=\"_parent\"><img src=\"https://colab.research.google.com/assets/colab-badge.svg\" alt=\"Open In Colab\"/></a>"
      ]
    },
    {
      "cell_type": "markdown",
      "source": [
        "# CA2 - C20323831 KAYLUM CASSIDY DT302\n",
        "The Internet has become an inexhaustible and available resource for building data sets. Many\n",
        "market analytics applications start their studies by collecting such resources. Let’s imagine that\n",
        "a start-up company, which start their business in the market of toys and games for children,\n",
        "wants to do a market research on this domain. Let’s start with a website www.brickset.com"
      ],
      "metadata": {
        "id": "zX-sqfMHUPlW"
      }
    },
    {
      "cell_type": "markdown",
      "source": [
        "## Q1"
      ],
      "metadata": {
        "id": "x7MY1KntUSlW"
      }
    },
    {
      "cell_type": "code",
      "source": [
        "start_urls = 'http://brickset.com/sets/year-2023'\n",
        "\n",
        "# Write you code here to download content of HTML page\n",
        "import urllib.request\n",
        "response = urllib.request.urlopen(start_urls)\n",
        "raw_html = response.read().decode(\"utf-8\")\n",
        "\n",
        "# Write you code here to parse HTML page\n",
        "from bs4 import BeautifulSoup\n",
        "soup = BeautifulSoup(raw_html, 'html.parser')\n"
      ],
      "metadata": {
        "id": "4-2IdXnyT0F5"
      },
      "execution_count": 4,
      "outputs": []
    },
    {
      "cell_type": "code",
      "source": [
        "start_url = 'https://brickset.com/sets/year-2023'\n",
        "response = urllib.request.urlopen(start_url)\n",
        "raw_html = response.read().decode(\"utf-8\")\n",
        "soup = BeautifulSoup(raw_html, 'html.parser')\n",
        "\n",
        "# Extract category links\n",
        "category_links = [urllib.parse.urljoin(start_url, a['href']) for a in soup.select('nav a') if 'year' in a['href']]\n",
        "\n",
        "# Print the list of category links\n",
        "print(\"Category Pages:\")\n",
        "for link in category_links:\n",
        "    print(link)\n",
        "\n"
      ],
      "metadata": {
        "colab": {
          "base_uri": "https://localhost:8080/"
        },
        "id": "rwQyNUbJUYlg",
        "outputId": "04a8a48d-be15-4379-8432-75ce88a40920"
      },
      "execution_count": 8,
      "outputs": [
        {
          "output_type": "stream",
          "name": "stdout",
          "text": [
            "Category Pages:\n",
            "https://brickset.com/sets/year-2024\n",
            "https://brickset.com/sets/year-2023\n",
            "https://brickset.com/sets/year-2022\n",
            "https://brickset.com/sets/year-2023/theme-BrickHeadz\n",
            "https://brickset.com/sets/year-2023/theme-City\n",
            "https://brickset.com/sets/year-2023/theme-Collectable-Minifigures\n",
            "https://brickset.com/sets/year-2023/theme-Creator\n",
            "https://brickset.com/sets/year-2023/theme-DC-Comics-Super-Heroes\n",
            "https://brickset.com/sets/year-2023/theme-Disney\n",
            "https://brickset.com/sets/year-2023/theme-Dots\n",
            "https://brickset.com/sets/year-2023/theme-Dreamzzz\n",
            "https://brickset.com/sets/year-2023/theme-Friends\n",
            "https://brickset.com/sets/year-2023/theme-Harry-Potter\n",
            "https://brickset.com/sets/year-2023/theme-Icons\n",
            "https://brickset.com/sets/year-2023/theme-Ideas\n",
            "https://brickset.com/sets/year-2023/theme-Marvel-Super-Heroes\n",
            "https://brickset.com/sets/year-2023/theme-Minecraft\n",
            "https://brickset.com/sets/year-2023/theme-Monkie-Kid\n",
            "https://brickset.com/sets/year-2023/theme-Ninjago\n",
            "https://brickset.com/sets/year-2023/theme-Seasonal\n",
            "https://brickset.com/sets/year-2023/theme-Speed-Champions\n",
            "https://brickset.com/sets/year-2023/theme-Star-Wars\n",
            "https://brickset.com/sets/year-2023/theme-Super-Mario\n",
            "https://brickset.com/sets/year-2023/theme-Technic\n",
            "https://brickset.com/sets/year-2023/tag-polybag\n",
            "https://brickset.com/sets/year-2023/tag-18-plus\n",
            "https://brickset.com/sets/year-2023/tag-gift-with-purchase\n"
          ]
        }
      ]
    },
    {
      "cell_type": "code",
      "source": [
        "import pprint\n",
        "# Write you code here to extract information\n",
        "secbox = soup.find(\"section\", {\"class\":\"setlist\"})\n",
        "print(len(secbox.find_all(\"article\", {\"class\": \"set\"})))\n",
        "for divbox in secbox.find_all(\"article\", {\"class\":\"set\"}):\n",
        "  try:\n",
        "      title = divbox.find(\"h1\").get_text()\n",
        "      href = divbox.find(\"a\").get(\"href\")\n",
        "      theme = divbox.find(\"div\", {\"class\":\"tags\"}).find_all(\"a\")[1].get_text()\n",
        "      subtheme = divbox.find(\"div\", {\"class\":\"tags\"}).find_all(\"a\")[2].get_text()\n",
        "      year = divbox.find(\"div\", {\"class\":\"tags\"}).find_all(\"a\")[-1].get_text()\n",
        "\n",
        "      pieces = divbox.find(\"div\", {\"class\":\"col\"}).find_all(\"a\")[0].get_text()\n",
        "      packaging = divbox.find(\"div\", {\"class\":\"col\"}).find_all(\"dd\")[5].get_text()\n",
        "\n",
        "      kpos = -1\n",
        "      for k, box in enumerate(divbox.find_all(\"dt\")):\n",
        "        if box.get_text().find(\"Related\") >= 0:\n",
        "          kpos = k\n",
        "          break\n",
        "      relatedset = \"\"\n",
        "      if kpos >= 0:\n",
        "        relatedset = divbox.find_all(\"dd\")[kpos].get_text()\n",
        "        #Option1:\n",
        "        relatedset = relatedset[relatedset.find(\"with\")+5:] if relatedset.find(\"with\")>0 else relatedset\n",
        "        #Option2:\n",
        "        l = relatedset.split()\n",
        "        l = [x for x in l if x[-2:]==\"-1\"]\n",
        "        relatedset = \" \".join(l)\n",
        "        #Option3: relatedset = \" \".join([t for t in relatedset.split() if t[-2:]==\"-1\"])\n",
        "\n",
        "      for pricebox in divbox.find(\"div\", {\"class\":\"col\"}).find_all(\"dd\"):\n",
        "        if pricebox.get_text().find(\"$\") >=0:\n",
        "          price = pricebox.get_text()\n",
        "          break\n",
        "\n",
        "\n",
        "      #set_type = divbox.find(\"div\", {\"class\":\"col\"}).find_all(\"dt\")[].get_text()\n",
        "      lst_productlinks.append([title,href,theme,subtheme,pieces,year,packaging,price,relatedset])\n",
        "  except:\n",
        "      pass\n",
        "\n",
        "  oneproduct = {}\n",
        "  oneproduct[\"Title\"] = title\n",
        "  oneproduct[\"Link\"] = href\n",
        "  oneproduct[\"Theme\"] = theme\n",
        "  oneproduct[\"Subtheme\"] = subtheme\n",
        "  oneproduct[\"Pieces\"] = pieces\n",
        "  oneproduct[\"Year\"] = year\n",
        "  oneproduct[\"Packaging\"] = packaging\n",
        "  oneproduct[\"Price\"] = price\n",
        "  oneproduct[\"Set Type\"] = relatedset\n",
        "\n",
        "  pprint.pprint(oneproduct)\n",
        "  #break"
      ],
      "metadata": {
        "colab": {
          "base_uri": "https://localhost:8080/"
        },
        "id": "yzPXMpfoT1nq",
        "outputId": "eb590e23-8708-4767-c90b-c3ffee1543b4"
      },
      "execution_count": 5,
      "outputs": [
        {
          "output_type": "stream",
          "name": "stdout",
          "text": [
            "25\n",
            "{'Link': 'https://images.brickset.com/sets/large/10312-1.jpg?202212120445',\n",
            " 'Packaging': 'Yes',\n",
            " 'Pieces': '2899',\n",
            " 'Price': '$229.99, €229.99 | More',\n",
            " 'Set Type': '',\n",
            " 'Subtheme': 'Modular Buildings Collection',\n",
            " 'Theme': 'Icons',\n",
            " 'Title': 'Jazz Club',\n",
            " 'Year': '2023'}\n",
            "{'Link': 'https://images.brickset.com/sets/large/10313-1.jpg?202301030423',\n",
            " 'Packaging': '12',\n",
            " 'Pieces': '939',\n",
            " 'Price': '$59.99, €59.99 | More',\n",
            " 'Set Type': '',\n",
            " 'Subtheme': 'Botanical Collection',\n",
            " 'Theme': 'Icons',\n",
            " 'Title': 'Wildflower Bouquet',\n",
            " 'Year': '2023'}\n",
            "{'Link': 'https://images.brickset.com/sets/large/10314-1.jpg?202301030424',\n",
            " 'Packaging': '10',\n",
            " 'Pieces': '812',\n",
            " 'Price': '$49.99, €49.99 | More',\n",
            " 'Set Type': '',\n",
            " 'Subtheme': 'Botanical Collection',\n",
            " 'Theme': 'Icons',\n",
            " 'Title': 'Dried Flower Centrepiece',\n",
            " 'Year': '2023'}\n",
            "{'Link': 'https://images.brickset.com/sets/large/10315-1.jpg?202303230615',\n",
            " 'Packaging': '9',\n",
            " 'Pieces': '1363',\n",
            " 'Price': '$109.99, €104.99 | More',\n",
            " 'Set Type': '',\n",
            " 'Subtheme': 'Miscellaneous',\n",
            " 'Theme': 'Icons',\n",
            " 'Title': 'Tranquil Garden',\n",
            " 'Year': '2023'}\n",
            "{'Link': 'https://images.brickset.com/sets/large/10316-1.jpg?202302060243',\n",
            " 'Packaging': 'Yes',\n",
            " 'Pieces': '6167',\n",
            " 'Price': '$499.99, €499.99 | More',\n",
            " 'Set Type': '',\n",
            " 'Subtheme': 'Licensed',\n",
            " 'Theme': 'Icons',\n",
            " 'Title': 'The Lord of the Rings: Rivendell',\n",
            " 'Year': '2023'}\n",
            "{'Link': 'https://images.brickset.com/sets/large/10317-1.jpg?202303160947',\n",
            " 'Packaging': '11',\n",
            " 'Pieces': '2336',\n",
            " 'Price': '$239.99, €239.99 | More',\n",
            " 'Set Type': '',\n",
            " 'Subtheme': 'Vehicles',\n",
            " 'Theme': 'Icons',\n",
            " 'Title': 'Land Rover Classic Defender 90',\n",
            " 'Year': '2023'}\n",
            "{'Link': 'https://images.brickset.com/sets/large/10318-1.jpg?202308040949',\n",
            " 'Packaging': '10',\n",
            " 'Pieces': '2083',\n",
            " 'Price': '$199.99, €199.99 | More',\n",
            " 'Set Type': '',\n",
            " 'Subtheme': 'Miscellaneous',\n",
            " 'Theme': 'Icons',\n",
            " 'Title': 'Concorde',\n",
            " 'Year': '2023'}\n",
            "{'Link': 'https://images.brickset.com/sets/large/10320-1.jpg?202306140313',\n",
            " 'Packaging': 'Yes',\n",
            " 'Pieces': '2509',\n",
            " 'Price': '$214.99, €214.99 | More',\n",
            " 'Set Type': '6276-1',\n",
            " 'Subtheme': 'Pirates System',\n",
            " 'Theme': 'Icons',\n",
            " 'Title': 'Eldorado Fortress',\n",
            " 'Year': '2023'}\n",
            "{'Link': 'https://images.brickset.com/sets/large/10321-1.jpg?202306300156',\n",
            " 'Packaging': '13',\n",
            " 'Pieces': '1210',\n",
            " 'Price': '$149.99, €149.99 | More',\n",
            " 'Set Type': '',\n",
            " 'Subtheme': 'Vehicles',\n",
            " 'Theme': 'Icons',\n",
            " 'Title': 'Corvette',\n",
            " 'Year': '2023'}\n",
            "{'Link': 'https://images.brickset.com/sets/large/10323-1.jpg?202305190122',\n",
            " 'Packaging': 'Box',\n",
            " 'Pieces': '2651',\n",
            " 'Price': '$269.99, €269.99 | More',\n",
            " 'Set Type': '',\n",
            " 'Subtheme': 'Licensed',\n",
            " 'Theme': 'Icons',\n",
            " 'Title': 'PAC-MAN Arcade',\n",
            " 'Year': '2023'}\n",
            "{'Link': 'https://images.brickset.com/sets/large/10325-1.jpg?202309090209',\n",
            " 'Packaging': 'Box',\n",
            " 'Pieces': '1517',\n",
            " 'Price': '$99.99, €99.99 | More',\n",
            " 'Set Type': '',\n",
            " 'Subtheme': 'Winter Village Collection',\n",
            " 'Theme': 'Icons',\n",
            " 'Title': 'Alpine Lodge',\n",
            " 'Year': '2023'}\n",
            "{'Link': 'https://images.brickset.com/sets/large/10411-1.jpg?202211051115',\n",
            " 'Packaging': 'Box',\n",
            " 'Pieces': '124',\n",
            " 'Price': '$69.99, €79.99 | More',\n",
            " 'Set Type': '',\n",
            " 'Subtheme': 'Seasonal',\n",
            " 'Theme': 'Duplo',\n",
            " 'Title': 'Learn About Chinese Culture',\n",
            " 'Year': '2023'}\n",
            "{'Link': 'https://images.brickset.com/sets/large/010423-1.jpg?202304010940',\n",
            " 'Packaging': 'Box',\n",
            " 'Pieces': '5',\n",
            " 'Price': '$69.99, €79.99 | More',\n",
            " 'Set Type': '',\n",
            " 'Subtheme': '2023',\n",
            " 'Theme': 'Miscellaneous',\n",
            " 'Title': 'The Majestic Horse',\n",
            " 'Year': '2023'}\n",
            "{'Link': 'https://images.brickset.com/sets/large/10785-1.jpg?202303230615',\n",
            " 'Packaging': 'Box',\n",
            " 'Pieces': '58',\n",
            " 'Price': '$10.99, €9.99 | More',\n",
            " 'Set Type': '',\n",
            " 'Subtheme': '2023',\n",
            " 'Theme': \"Gabby's Dollhouse\",\n",
            " 'Title': 'Bakey with Cakey Fun',\n",
            " 'Year': '2023'}\n",
            "{'Link': 'https://images.brickset.com/sets/large/10786-1.jpg?202303230615',\n",
            " 'Packaging': 'Box',\n",
            " 'Pieces': '88',\n",
            " 'Price': '$19.99, €20.99 | More',\n",
            " 'Set Type': '',\n",
            " 'Subtheme': '2023',\n",
            " 'Theme': \"Gabby's Dollhouse\",\n",
            " 'Title': \"Gabby & MerCat's Ship & Spa\",\n",
            " 'Year': '2023'}\n",
            "{'Link': 'https://images.brickset.com/sets/large/10787-1.jpg?202303230615',\n",
            " 'Packaging': 'Box',\n",
            " 'Pieces': '130',\n",
            " 'Price': '$34.99, €29.99 | More',\n",
            " 'Set Type': '',\n",
            " 'Subtheme': '2023',\n",
            " 'Theme': \"Gabby's Dollhouse\",\n",
            " 'Title': \"Kitty Fairy's Garden Party\",\n",
            " 'Year': '2023'}\n",
            "{'Link': 'https://images.brickset.com/sets/large/10788-1.jpg?202303230615',\n",
            " 'Packaging': 'Box',\n",
            " 'Pieces': '498',\n",
            " 'Price': '$79.99, €79.99 | More',\n",
            " 'Set Type': '',\n",
            " 'Subtheme': '2023',\n",
            " 'Theme': \"Gabby's Dollhouse\",\n",
            " 'Title': \"Gabby's Dollhouse\",\n",
            " 'Year': '2023'}\n",
            "{'Link': 'https://images.brickset.com/sets/large/10789-1.jpg?202212020933',\n",
            " 'Packaging': 'Box',\n",
            " 'Pieces': '48',\n",
            " 'Price': '$9.99, €9.99 | More',\n",
            " 'Set Type': '',\n",
            " 'Subtheme': 'Spidey and his Amazing Friends',\n",
            " 'Theme': 'Marvel Super Heroes',\n",
            " 'Title': \"Spider-Man's Car and Doc Ock\",\n",
            " 'Year': '2023'}\n",
            "{'Link': 'https://images.brickset.com/sets/large/10790-1.jpg?202212020933',\n",
            " 'Packaging': 'Box',\n",
            " 'Pieces': '149',\n",
            " 'Price': '$34.99, €34.99 | More',\n",
            " 'Set Type': '',\n",
            " 'Subtheme': 'Spidey and his Amazing Friends',\n",
            " 'Theme': 'Marvel Super Heroes',\n",
            " 'Title': \"Team Spidey at Green Goblin's Lighthouse\",\n",
            " 'Year': '2023'}\n",
            "{'Link': 'https://images.brickset.com/sets/large/10791-1.jpg?202212020933',\n",
            " 'Packaging': 'Box',\n",
            " 'Pieces': '187',\n",
            " 'Price': '$49.99, €49.99 | More',\n",
            " 'Set Type': '',\n",
            " 'Subtheme': 'Spidey and his Amazing Friends',\n",
            " 'Theme': 'Marvel Super Heroes',\n",
            " 'Title': \"Team Spidey's Mobile Headquarters\",\n",
            " 'Year': '2023'}\n",
            "{'Link': 'https://images.brickset.com/sets/large/10935-1.jpg?202212020934',\n",
            " 'Packaging': 'Box',\n",
            " 'Pieces': '87',\n",
            " 'Price': '$49.99, €49.99 | More',\n",
            " 'Set Type': '',\n",
            " 'Subtheme': '2023',\n",
            " 'Theme': 'Duplo',\n",
            " 'Title': 'Alphabet Town',\n",
            " 'Year': '2023'}\n",
            "{'Link': 'https://images.brickset.com/sets/large/10981-1.jpg?202301010108',\n",
            " 'Packaging': '6',\n",
            " 'Pieces': '11',\n",
            " 'Price': '$9.99, €9.99 | More',\n",
            " 'Set Type': '66776-1',\n",
            " 'Subtheme': '2023',\n",
            " 'Theme': 'Duplo',\n",
            " 'Title': 'Growing Carrot',\n",
            " 'Year': '2023'}\n",
            "{'Link': 'https://images.brickset.com/sets/large/10982-1.jpg?202301020203',\n",
            " 'Packaging': 'Box',\n",
            " 'Pieces': '19',\n",
            " 'Price': '$19.99, €19.99 | More',\n",
            " 'Set Type': '66776-1',\n",
            " 'Subtheme': '2023',\n",
            " 'Theme': 'Duplo',\n",
            " 'Title': 'Fruit and Vegetable Tractor',\n",
            " 'Year': '2023'}\n",
            "{'Link': 'https://images.brickset.com/sets/large/10983-1.jpg?202301010108',\n",
            " 'Packaging': '6',\n",
            " 'Pieces': '40',\n",
            " 'Price': '$29.99, €29.99 | More',\n",
            " 'Set Type': '',\n",
            " 'Subtheme': '2023',\n",
            " 'Theme': 'Duplo',\n",
            " 'Title': 'Organic Market',\n",
            " 'Year': '2023'}\n",
            "{'Link': 'https://images.brickset.com/sets/large/10984-1.jpg?202301010109',\n",
            " 'Packaging': '10',\n",
            " 'Pieces': '43',\n",
            " 'Price': '$44.99, €44.99 | More',\n",
            " 'Set Type': '',\n",
            " 'Subtheme': '2023',\n",
            " 'Theme': 'Duplo',\n",
            " 'Title': 'Organic Garden',\n",
            " 'Year': '2023'}\n"
          ]
        }
      ]
    },
    {
      "cell_type": "markdown",
      "source": [
        "## Q2"
      ],
      "metadata": {
        "id": "C6Dv1rHlUdTY"
      }
    },
    {
      "cell_type": "code",
      "source": [
        "import pprint\n",
        "lst_productlinks = []\n",
        "\n",
        "\n",
        "secbox = soup.find(\"section\", {\"class\":\"setlist\"})\n",
        "print(len(secbox.find_all(\"article\", {\"class\": \"set\"})))\n",
        "for divbox in secbox.find_all(\"article\", {\"class\":\"set\"}):\n",
        "  try:\n",
        "      title = divbox.find(\"h1\").get_text()\n",
        "      href = divbox.find(\"a\").get(\"href\")\n",
        "      stext = divbox.get_text().strip()\n",
        "      print(title, \"=>\", href)\n",
        "      lst_productlinks.append([title,href])\n",
        "  except:\n",
        "      pass"
      ],
      "metadata": {
        "colab": {
          "base_uri": "https://localhost:8080/"
        },
        "id": "F4_psHGpYW8B",
        "outputId": "ab0f6669-ea4e-44f7-aa5b-32d537870b85"
      },
      "execution_count": 22,
      "outputs": [
        {
          "output_type": "stream",
          "name": "stdout",
          "text": [
            "25\n",
            "Jazz Club => https://images.brickset.com/sets/large/10312-1.jpg?202212120445\n",
            "Wildflower Bouquet => https://images.brickset.com/sets/large/10313-1.jpg?202301030423\n",
            "Dried Flower Centrepiece => https://images.brickset.com/sets/large/10314-1.jpg?202301030424\n",
            "Tranquil Garden => https://images.brickset.com/sets/large/10315-1.jpg?202303230615\n",
            "The Lord of the Rings: Rivendell => https://images.brickset.com/sets/large/10316-1.jpg?202302060243\n",
            "Land Rover Classic Defender 90 => https://images.brickset.com/sets/large/10317-1.jpg?202303160947\n",
            "Concorde => https://images.brickset.com/sets/large/10318-1.jpg?202308040949\n",
            "Eldorado Fortress => https://images.brickset.com/sets/large/10320-1.jpg?202306140313\n",
            "Corvette => https://images.brickset.com/sets/large/10321-1.jpg?202306300156\n",
            "PAC-MAN Arcade => https://images.brickset.com/sets/large/10323-1.jpg?202305190122\n",
            "Alpine Lodge => https://images.brickset.com/sets/large/10325-1.jpg?202309090209\n",
            "Learn About Chinese Culture => https://images.brickset.com/sets/large/10411-1.jpg?202211051115\n",
            "The Majestic Horse => https://images.brickset.com/sets/large/010423-1.jpg?202304010940\n",
            "Bakey with Cakey Fun => https://images.brickset.com/sets/large/10785-1.jpg?202303230615\n",
            "Gabby & MerCat's Ship & Spa => https://images.brickset.com/sets/large/10786-1.jpg?202303230615\n",
            "Kitty Fairy's Garden Party => https://images.brickset.com/sets/large/10787-1.jpg?202303230615\n",
            "Gabby's Dollhouse => https://images.brickset.com/sets/large/10788-1.jpg?202303230615\n",
            "Spider-Man's Car and Doc Ock => https://images.brickset.com/sets/large/10789-1.jpg?202212020933\n",
            "Team Spidey at Green Goblin's Lighthouse => https://images.brickset.com/sets/large/10790-1.jpg?202212020933\n",
            "Team Spidey's Mobile Headquarters => https://images.brickset.com/sets/large/10791-1.jpg?202212020933\n",
            "Alphabet Town => https://images.brickset.com/sets/large/10935-1.jpg?202212020934\n",
            "Growing Carrot => https://images.brickset.com/sets/large/10981-1.jpg?202301010108\n",
            "Fruit and Vegetable Tractor => https://images.brickset.com/sets/large/10982-1.jpg?202301020203\n",
            "Organic Market => https://images.brickset.com/sets/large/10983-1.jpg?202301010108\n",
            "Organic Garden => https://images.brickset.com/sets/large/10984-1.jpg?202301010109\n"
          ]
        }
      ]
    },
    {
      "cell_type": "markdown",
      "source": [
        "## Q3"
      ],
      "metadata": {
        "id": "sfjy8cCPVUWC"
      }
    },
    {
      "cell_type": "code",
      "source": [
        "# Initialize the list to store product information\n",
        "lst_product_info = []\n",
        "\n",
        "# Iterate through each product on the category page\n",
        "for divbox in secbox.find_all(\"article\", {\"class\": \"set\"}):\n",
        "    try:\n",
        "        title = divbox.find(\"h1\").get_text()\n",
        "        href = divbox.find(\"a\").get(\"href\")\n",
        "        theme = divbox.find(\"div\", {\"class\": \"tags\"}).find_all(\"a\")[1].get_text()\n",
        "        subtheme = divbox.find(\"div\", {\"class\": \"tags\"}).find_all(\"a\")[2].get_text()\n",
        "        year = divbox.find(\"div\", {\"class\": \"tags\"}).find_all(\"a\")[-1].get_text()\n",
        "\n",
        "        pieces = divbox.find(\"div\", {\"class\": \"col\"}).find_all(\"a\")[0].get_text()\n",
        "        packaging = divbox.find(\"div\", {\"class\": \"col\"}).find_all(\"dd\")[5].get_text()\n",
        "\n",
        "        kpos = -1\n",
        "        for k, box in enumerate(divbox.find_all(\"dt\")):\n",
        "            if box.get_text().find(\"Related\") >= 0:\n",
        "                kpos = k\n",
        "                break\n",
        "        relatedset = \"\"\n",
        "        if kpos >= 0:\n",
        "            relatedset = divbox.find_all(\"dd\")[kpos].get_text()\n",
        "            # Option1:\n",
        "            relatedset = relatedset[relatedset.find(\"with\") + 5:] if relatedset.find(\"with\") > 0 else relatedset\n",
        "            # Option2:\n",
        "            l = relatedset.split()\n",
        "            l = [x for x in l if x[-2:] == \"-1\"]\n",
        "            relatedset = \" \".join(l)\n",
        "\n",
        "        for pricebox in divbox.find(\"div\", {\"class\": \"col\"}).find_all(\"dd\"):\n",
        "            if pricebox.get_text().find(\"$\") >= 0:\n",
        "                price = pricebox.get_text()\n",
        "                break\n",
        "\n",
        "        # Append product information to the list\n",
        "        lst_product_info.append({\n",
        "            'Title': title,\n",
        "            'URL': href,\n",
        "            'Theme': theme,\n",
        "            'Subtheme': subtheme,\n",
        "            'Pieces': pieces,\n",
        "            'Year': year,\n",
        "            'Packaging': packaging,\n",
        "            'Price': price,\n",
        "            'Set Type': relatedset\n",
        "        })\n",
        "    except:\n",
        "        pass\n",
        "\n",
        "# Print the list of product information\n",
        "print(\"Product Information:\")\n",
        "for product_info in lst_product_info:\n",
        "    pprint.pprint(product_info)\n",
        "\n",
        "# Display the number of products\n",
        "print(\"Number of Products:\", len(lst_product_info))\n"
      ],
      "metadata": {
        "colab": {
          "base_uri": "https://localhost:8080/"
        },
        "id": "yfW6kvOJVEQz",
        "outputId": "ea72fa52-c1bb-4af7-a414-ef3c55df79d4"
      },
      "execution_count": 10,
      "outputs": [
        {
          "output_type": "stream",
          "name": "stdout",
          "text": [
            "Product Information:\n",
            "{'Packaging': 'Yes',\n",
            " 'Pieces': '2899',\n",
            " 'Price': '$229.99, €229.99 | More',\n",
            " 'Set Type': '',\n",
            " 'Subtheme': 'Modular Buildings Collection',\n",
            " 'Theme': 'Icons',\n",
            " 'Title': 'Jazz Club',\n",
            " 'URL': 'https://images.brickset.com/sets/large/10312-1.jpg?202212120445',\n",
            " 'Year': '2023'}\n",
            "{'Packaging': '12',\n",
            " 'Pieces': '939',\n",
            " 'Price': '$59.99, €59.99 | More',\n",
            " 'Set Type': '',\n",
            " 'Subtheme': 'Botanical Collection',\n",
            " 'Theme': 'Icons',\n",
            " 'Title': 'Wildflower Bouquet',\n",
            " 'URL': 'https://images.brickset.com/sets/large/10313-1.jpg?202301030423',\n",
            " 'Year': '2023'}\n",
            "{'Packaging': '10',\n",
            " 'Pieces': '812',\n",
            " 'Price': '$49.99, €49.99 | More',\n",
            " 'Set Type': '',\n",
            " 'Subtheme': 'Botanical Collection',\n",
            " 'Theme': 'Icons',\n",
            " 'Title': 'Dried Flower Centrepiece',\n",
            " 'URL': 'https://images.brickset.com/sets/large/10314-1.jpg?202301030424',\n",
            " 'Year': '2023'}\n",
            "{'Packaging': '9',\n",
            " 'Pieces': '1363',\n",
            " 'Price': '$109.99, €104.99 | More',\n",
            " 'Set Type': '',\n",
            " 'Subtheme': 'Miscellaneous',\n",
            " 'Theme': 'Icons',\n",
            " 'Title': 'Tranquil Garden',\n",
            " 'URL': 'https://images.brickset.com/sets/large/10315-1.jpg?202303230615',\n",
            " 'Year': '2023'}\n",
            "{'Packaging': 'Yes',\n",
            " 'Pieces': '6167',\n",
            " 'Price': '$499.99, €499.99 | More',\n",
            " 'Set Type': '',\n",
            " 'Subtheme': 'Licensed',\n",
            " 'Theme': 'Icons',\n",
            " 'Title': 'The Lord of the Rings: Rivendell',\n",
            " 'URL': 'https://images.brickset.com/sets/large/10316-1.jpg?202302060243',\n",
            " 'Year': '2023'}\n",
            "{'Packaging': '11',\n",
            " 'Pieces': '2336',\n",
            " 'Price': '$239.99, €239.99 | More',\n",
            " 'Set Type': '',\n",
            " 'Subtheme': 'Vehicles',\n",
            " 'Theme': 'Icons',\n",
            " 'Title': 'Land Rover Classic Defender 90',\n",
            " 'URL': 'https://images.brickset.com/sets/large/10317-1.jpg?202303160947',\n",
            " 'Year': '2023'}\n",
            "{'Packaging': '10',\n",
            " 'Pieces': '2083',\n",
            " 'Price': '$199.99, €199.99 | More',\n",
            " 'Set Type': '',\n",
            " 'Subtheme': 'Miscellaneous',\n",
            " 'Theme': 'Icons',\n",
            " 'Title': 'Concorde',\n",
            " 'URL': 'https://images.brickset.com/sets/large/10318-1.jpg?202308040949',\n",
            " 'Year': '2023'}\n",
            "{'Packaging': 'Yes',\n",
            " 'Pieces': '2509',\n",
            " 'Price': '$214.99, €214.99 | More',\n",
            " 'Set Type': '6276-1',\n",
            " 'Subtheme': 'Pirates System',\n",
            " 'Theme': 'Icons',\n",
            " 'Title': 'Eldorado Fortress',\n",
            " 'URL': 'https://images.brickset.com/sets/large/10320-1.jpg?202306140313',\n",
            " 'Year': '2023'}\n",
            "{'Packaging': '13',\n",
            " 'Pieces': '1210',\n",
            " 'Price': '$149.99, €149.99 | More',\n",
            " 'Set Type': '',\n",
            " 'Subtheme': 'Vehicles',\n",
            " 'Theme': 'Icons',\n",
            " 'Title': 'Corvette',\n",
            " 'URL': 'https://images.brickset.com/sets/large/10321-1.jpg?202306300156',\n",
            " 'Year': '2023'}\n",
            "{'Packaging': 'Box',\n",
            " 'Pieces': '2651',\n",
            " 'Price': '$269.99, €269.99 | More',\n",
            " 'Set Type': '',\n",
            " 'Subtheme': 'Licensed',\n",
            " 'Theme': 'Icons',\n",
            " 'Title': 'PAC-MAN Arcade',\n",
            " 'URL': 'https://images.brickset.com/sets/large/10323-1.jpg?202305190122',\n",
            " 'Year': '2023'}\n",
            "{'Packaging': 'Box',\n",
            " 'Pieces': '1517',\n",
            " 'Price': '$99.99, €99.99 | More',\n",
            " 'Set Type': '',\n",
            " 'Subtheme': 'Winter Village Collection',\n",
            " 'Theme': 'Icons',\n",
            " 'Title': 'Alpine Lodge',\n",
            " 'URL': 'https://images.brickset.com/sets/large/10325-1.jpg?202309090209',\n",
            " 'Year': '2023'}\n",
            "{'Packaging': 'Box',\n",
            " 'Pieces': '124',\n",
            " 'Price': '$69.99, €79.99 | More',\n",
            " 'Set Type': '',\n",
            " 'Subtheme': 'Seasonal',\n",
            " 'Theme': 'Duplo',\n",
            " 'Title': 'Learn About Chinese Culture',\n",
            " 'URL': 'https://images.brickset.com/sets/large/10411-1.jpg?202211051115',\n",
            " 'Year': '2023'}\n",
            "{'Packaging': 'Box',\n",
            " 'Pieces': '58',\n",
            " 'Price': '$10.99, €9.99 | More',\n",
            " 'Set Type': '',\n",
            " 'Subtheme': '2023',\n",
            " 'Theme': \"Gabby's Dollhouse\",\n",
            " 'Title': 'Bakey with Cakey Fun',\n",
            " 'URL': 'https://images.brickset.com/sets/large/10785-1.jpg?202303230615',\n",
            " 'Year': '2023'}\n",
            "{'Packaging': 'Box',\n",
            " 'Pieces': '88',\n",
            " 'Price': '$19.99, €20.99 | More',\n",
            " 'Set Type': '',\n",
            " 'Subtheme': '2023',\n",
            " 'Theme': \"Gabby's Dollhouse\",\n",
            " 'Title': \"Gabby & MerCat's Ship & Spa\",\n",
            " 'URL': 'https://images.brickset.com/sets/large/10786-1.jpg?202303230615',\n",
            " 'Year': '2023'}\n",
            "{'Packaging': 'Box',\n",
            " 'Pieces': '130',\n",
            " 'Price': '$34.99, €29.99 | More',\n",
            " 'Set Type': '',\n",
            " 'Subtheme': '2023',\n",
            " 'Theme': \"Gabby's Dollhouse\",\n",
            " 'Title': \"Kitty Fairy's Garden Party\",\n",
            " 'URL': 'https://images.brickset.com/sets/large/10787-1.jpg?202303230615',\n",
            " 'Year': '2023'}\n",
            "{'Packaging': 'Box',\n",
            " 'Pieces': '498',\n",
            " 'Price': '$79.99, €79.99 | More',\n",
            " 'Set Type': '',\n",
            " 'Subtheme': '2023',\n",
            " 'Theme': \"Gabby's Dollhouse\",\n",
            " 'Title': \"Gabby's Dollhouse\",\n",
            " 'URL': 'https://images.brickset.com/sets/large/10788-1.jpg?202303230615',\n",
            " 'Year': '2023'}\n",
            "{'Packaging': 'Box',\n",
            " 'Pieces': '48',\n",
            " 'Price': '$9.99, €9.99 | More',\n",
            " 'Set Type': '',\n",
            " 'Subtheme': 'Spidey and his Amazing Friends',\n",
            " 'Theme': 'Marvel Super Heroes',\n",
            " 'Title': \"Spider-Man's Car and Doc Ock\",\n",
            " 'URL': 'https://images.brickset.com/sets/large/10789-1.jpg?202212020933',\n",
            " 'Year': '2023'}\n",
            "{'Packaging': 'Box',\n",
            " 'Pieces': '149',\n",
            " 'Price': '$34.99, €34.99 | More',\n",
            " 'Set Type': '',\n",
            " 'Subtheme': 'Spidey and his Amazing Friends',\n",
            " 'Theme': 'Marvel Super Heroes',\n",
            " 'Title': \"Team Spidey at Green Goblin's Lighthouse\",\n",
            " 'URL': 'https://images.brickset.com/sets/large/10790-1.jpg?202212020933',\n",
            " 'Year': '2023'}\n",
            "{'Packaging': 'Box',\n",
            " 'Pieces': '187',\n",
            " 'Price': '$49.99, €49.99 | More',\n",
            " 'Set Type': '',\n",
            " 'Subtheme': 'Spidey and his Amazing Friends',\n",
            " 'Theme': 'Marvel Super Heroes',\n",
            " 'Title': \"Team Spidey's Mobile Headquarters\",\n",
            " 'URL': 'https://images.brickset.com/sets/large/10791-1.jpg?202212020933',\n",
            " 'Year': '2023'}\n",
            "{'Packaging': 'Box',\n",
            " 'Pieces': '87',\n",
            " 'Price': '$49.99, €49.99 | More',\n",
            " 'Set Type': '',\n",
            " 'Subtheme': '2023',\n",
            " 'Theme': 'Duplo',\n",
            " 'Title': 'Alphabet Town',\n",
            " 'URL': 'https://images.brickset.com/sets/large/10935-1.jpg?202212020934',\n",
            " 'Year': '2023'}\n",
            "{'Packaging': '6',\n",
            " 'Pieces': '11',\n",
            " 'Price': '$9.99, €9.99 | More',\n",
            " 'Set Type': '66776-1',\n",
            " 'Subtheme': '2023',\n",
            " 'Theme': 'Duplo',\n",
            " 'Title': 'Growing Carrot',\n",
            " 'URL': 'https://images.brickset.com/sets/large/10981-1.jpg?202301010108',\n",
            " 'Year': '2023'}\n",
            "{'Packaging': 'Box',\n",
            " 'Pieces': '19',\n",
            " 'Price': '$19.99, €19.99 | More',\n",
            " 'Set Type': '66776-1',\n",
            " 'Subtheme': '2023',\n",
            " 'Theme': 'Duplo',\n",
            " 'Title': 'Fruit and Vegetable Tractor',\n",
            " 'URL': 'https://images.brickset.com/sets/large/10982-1.jpg?202301020203',\n",
            " 'Year': '2023'}\n",
            "{'Packaging': '6',\n",
            " 'Pieces': '40',\n",
            " 'Price': '$29.99, €29.99 | More',\n",
            " 'Set Type': '',\n",
            " 'Subtheme': '2023',\n",
            " 'Theme': 'Duplo',\n",
            " 'Title': 'Organic Market',\n",
            " 'URL': 'https://images.brickset.com/sets/large/10983-1.jpg?202301010108',\n",
            " 'Year': '2023'}\n",
            "{'Packaging': '10',\n",
            " 'Pieces': '43',\n",
            " 'Price': '$44.99, €44.99 | More',\n",
            " 'Set Type': '',\n",
            " 'Subtheme': '2023',\n",
            " 'Theme': 'Duplo',\n",
            " 'Title': 'Organic Garden',\n",
            " 'URL': 'https://images.brickset.com/sets/large/10984-1.jpg?202301010109',\n",
            " 'Year': '2023'}\n",
            "Number of Products: 24\n"
          ]
        }
      ]
    },
    {
      "cell_type": "markdown",
      "source": [
        "## Q4"
      ],
      "metadata": {
        "id": "BKWoOKubVRn1"
      }
    },
    {
      "cell_type": "code",
      "source": [
        "# Extract unique themes and subthemes\n",
        "unique_themes = set(product_info['Theme'] for product_info in lst_product_info)\n",
        "unique_subthemes = set(product_info['Subtheme'] for product_info in lst_product_info)\n",
        "\n",
        "# Display unique themes\n",
        "print(\"Unique Themes:\")\n",
        "for theme in unique_themes:\n",
        "    print(theme)\n",
        "\n",
        "# Display unique subthemes\n",
        "print(\"\\nUnique Subthemes:\")\n",
        "for subtheme in unique_subthemes:\n",
        "    print(subtheme)\n",
        "\n",
        "# Display the number of unique themes and subthemes\n",
        "print(\"\\nNumber of Unique Themes:\", len(unique_themes))\n",
        "print(\"Number of Unique Subthemes:\", len(unique_subthemes))\n"
      ],
      "metadata": {
        "colab": {
          "base_uri": "https://localhost:8080/"
        },
        "id": "2hc9kAGqVQ-p",
        "outputId": "02f7f1c2-c898-46ef-8b60-b91154abdb82"
      },
      "execution_count": 11,
      "outputs": [
        {
          "output_type": "stream",
          "name": "stdout",
          "text": [
            "Unique Themes:\n",
            "Marvel Super Heroes\n",
            "Icons\n",
            "Gabby's Dollhouse\n",
            "Duplo\n",
            "\n",
            "Unique Subthemes:\n",
            "Pirates System\n",
            "Miscellaneous\n",
            "Licensed\n",
            "Vehicles\n",
            "Winter Village Collection\n",
            "Modular Buildings Collection\n",
            "Seasonal\n",
            "Spidey and his Amazing Friends\n",
            "Botanical Collection\n",
            "2023\n",
            "\n",
            "Number of Unique Themes: 4\n",
            "Number of Unique Subthemes: 10\n"
          ]
        }
      ]
    },
    {
      "cell_type": "markdown",
      "source": [
        "## Q5"
      ],
      "metadata": {
        "id": "PiML0AZLVtd5"
      }
    },
    {
      "cell_type": "code",
      "source": [
        "def extract_price_value(price_string):\n",
        "    # Extract numerical values from the price string\n",
        "    price_values = [float(part.replace('€', '').replace('$', '').replace(',', '').strip()) for part in price_string.split('|')]\n",
        "\n",
        "    # Return the last value if it exists, otherwise return 0\n",
        "    return price_values[-1] if price_values else 0.0\n",
        "\n",
        "\n",
        "# Find the product with the highest price\n",
        "product_with_highest_price = max(lst_product_info, key=lambda x: extract_price_value(x['Price']))\n",
        "\n",
        "# Display the product with the highest price\n",
        "print(\"Product with the Highest Price:\")\n",
        "print(\"Title:\", product_with_highest_price['Title'])\n",
        "print(\"Price:\", product_with_highest_price['Price'])\n",
        "print(\"URL:\", product_with_highest_price['Link'])\n"
      ],
      "metadata": {
        "colab": {
          "base_uri": "https://localhost:8080/",
          "height": 399
        },
        "id": "XG0p5CN4Vr60",
        "outputId": "309dd0df-258f-448a-d3b7-cd63fc403e11"
      },
      "execution_count": 48,
      "outputs": [
        {
          "output_type": "error",
          "ename": "ValueError",
          "evalue": "ignored",
          "traceback": [
            "\u001b[0;31m---------------------------------------------------------------------------\u001b[0m",
            "\u001b[0;31mValueError\u001b[0m                                Traceback (most recent call last)",
            "\u001b[0;32m<ipython-input-48-f21ef22e6c3f>\u001b[0m in \u001b[0;36m<cell line: 10>\u001b[0;34m()\u001b[0m\n\u001b[1;32m      8\u001b[0m \u001b[0;34m\u001b[0m\u001b[0m\n\u001b[1;32m      9\u001b[0m \u001b[0;31m# Find the product with the highest price\u001b[0m\u001b[0;34m\u001b[0m\u001b[0;34m\u001b[0m\u001b[0m\n\u001b[0;32m---> 10\u001b[0;31m \u001b[0mproduct_with_highest_price\u001b[0m \u001b[0;34m=\u001b[0m \u001b[0mmax\u001b[0m\u001b[0;34m(\u001b[0m\u001b[0mlst_product_info\u001b[0m\u001b[0;34m,\u001b[0m \u001b[0mkey\u001b[0m\u001b[0;34m=\u001b[0m\u001b[0;32mlambda\u001b[0m \u001b[0mx\u001b[0m\u001b[0;34m:\u001b[0m \u001b[0mextract_price_value\u001b[0m\u001b[0;34m(\u001b[0m\u001b[0mx\u001b[0m\u001b[0;34m[\u001b[0m\u001b[0;34m'Price'\u001b[0m\u001b[0;34m]\u001b[0m\u001b[0;34m)\u001b[0m\u001b[0;34m)\u001b[0m\u001b[0;34m\u001b[0m\u001b[0;34m\u001b[0m\u001b[0m\n\u001b[0m\u001b[1;32m     11\u001b[0m \u001b[0;34m\u001b[0m\u001b[0m\n\u001b[1;32m     12\u001b[0m \u001b[0;31m# Display the product with the highest price\u001b[0m\u001b[0;34m\u001b[0m\u001b[0;34m\u001b[0m\u001b[0m\n",
            "\u001b[0;32m<ipython-input-48-f21ef22e6c3f>\u001b[0m in \u001b[0;36m<lambda>\u001b[0;34m(x)\u001b[0m\n\u001b[1;32m      8\u001b[0m \u001b[0;34m\u001b[0m\u001b[0m\n\u001b[1;32m      9\u001b[0m \u001b[0;31m# Find the product with the highest price\u001b[0m\u001b[0;34m\u001b[0m\u001b[0;34m\u001b[0m\u001b[0m\n\u001b[0;32m---> 10\u001b[0;31m \u001b[0mproduct_with_highest_price\u001b[0m \u001b[0;34m=\u001b[0m \u001b[0mmax\u001b[0m\u001b[0;34m(\u001b[0m\u001b[0mlst_product_info\u001b[0m\u001b[0;34m,\u001b[0m \u001b[0mkey\u001b[0m\u001b[0;34m=\u001b[0m\u001b[0;32mlambda\u001b[0m \u001b[0mx\u001b[0m\u001b[0;34m:\u001b[0m \u001b[0mextract_price_value\u001b[0m\u001b[0;34m(\u001b[0m\u001b[0mx\u001b[0m\u001b[0;34m[\u001b[0m\u001b[0;34m'Price'\u001b[0m\u001b[0;34m]\u001b[0m\u001b[0;34m)\u001b[0m\u001b[0;34m)\u001b[0m\u001b[0;34m\u001b[0m\u001b[0;34m\u001b[0m\u001b[0m\n\u001b[0m\u001b[1;32m     11\u001b[0m \u001b[0;34m\u001b[0m\u001b[0m\n\u001b[1;32m     12\u001b[0m \u001b[0;31m# Display the product with the highest price\u001b[0m\u001b[0;34m\u001b[0m\u001b[0;34m\u001b[0m\u001b[0m\n",
            "\u001b[0;32m<ipython-input-48-f21ef22e6c3f>\u001b[0m in \u001b[0;36mextract_price_value\u001b[0;34m(price_string)\u001b[0m\n\u001b[1;32m      1\u001b[0m \u001b[0;32mdef\u001b[0m \u001b[0mextract_price_value\u001b[0m\u001b[0;34m(\u001b[0m\u001b[0mprice_string\u001b[0m\u001b[0;34m)\u001b[0m\u001b[0;34m:\u001b[0m\u001b[0;34m\u001b[0m\u001b[0;34m\u001b[0m\u001b[0m\n\u001b[1;32m      2\u001b[0m     \u001b[0;31m# Extract numerical values from the price string\u001b[0m\u001b[0;34m\u001b[0m\u001b[0;34m\u001b[0m\u001b[0m\n\u001b[0;32m----> 3\u001b[0;31m     \u001b[0mprice_values\u001b[0m \u001b[0;34m=\u001b[0m \u001b[0;34m[\u001b[0m\u001b[0mfloat\u001b[0m\u001b[0;34m(\u001b[0m\u001b[0mpart\u001b[0m\u001b[0;34m.\u001b[0m\u001b[0mreplace\u001b[0m\u001b[0;34m(\u001b[0m\u001b[0;34m'€'\u001b[0m\u001b[0;34m,\u001b[0m \u001b[0;34m''\u001b[0m\u001b[0;34m)\u001b[0m\u001b[0;34m.\u001b[0m\u001b[0mreplace\u001b[0m\u001b[0;34m(\u001b[0m\u001b[0;34m'$'\u001b[0m\u001b[0;34m,\u001b[0m \u001b[0;34m''\u001b[0m\u001b[0;34m)\u001b[0m\u001b[0;34m.\u001b[0m\u001b[0mreplace\u001b[0m\u001b[0;34m(\u001b[0m\u001b[0;34m','\u001b[0m\u001b[0;34m,\u001b[0m \u001b[0;34m''\u001b[0m\u001b[0;34m)\u001b[0m\u001b[0;34m.\u001b[0m\u001b[0mstrip\u001b[0m\u001b[0;34m(\u001b[0m\u001b[0;34m)\u001b[0m\u001b[0;34m)\u001b[0m \u001b[0;32mfor\u001b[0m \u001b[0mpart\u001b[0m \u001b[0;32min\u001b[0m \u001b[0mprice_string\u001b[0m\u001b[0;34m.\u001b[0m\u001b[0msplit\u001b[0m\u001b[0;34m(\u001b[0m\u001b[0;34m'|'\u001b[0m\u001b[0;34m)\u001b[0m\u001b[0;34m]\u001b[0m\u001b[0;34m\u001b[0m\u001b[0;34m\u001b[0m\u001b[0m\n\u001b[0m\u001b[1;32m      4\u001b[0m \u001b[0;34m\u001b[0m\u001b[0m\n\u001b[1;32m      5\u001b[0m     \u001b[0;31m# Return the last value if it exists, otherwise return 0\u001b[0m\u001b[0;34m\u001b[0m\u001b[0;34m\u001b[0m\u001b[0m\n",
            "\u001b[0;32m<ipython-input-48-f21ef22e6c3f>\u001b[0m in \u001b[0;36m<listcomp>\u001b[0;34m(.0)\u001b[0m\n\u001b[1;32m      1\u001b[0m \u001b[0;32mdef\u001b[0m \u001b[0mextract_price_value\u001b[0m\u001b[0;34m(\u001b[0m\u001b[0mprice_string\u001b[0m\u001b[0;34m)\u001b[0m\u001b[0;34m:\u001b[0m\u001b[0;34m\u001b[0m\u001b[0;34m\u001b[0m\u001b[0m\n\u001b[1;32m      2\u001b[0m     \u001b[0;31m# Extract numerical values from the price string\u001b[0m\u001b[0;34m\u001b[0m\u001b[0;34m\u001b[0m\u001b[0m\n\u001b[0;32m----> 3\u001b[0;31m     \u001b[0mprice_values\u001b[0m \u001b[0;34m=\u001b[0m \u001b[0;34m[\u001b[0m\u001b[0mfloat\u001b[0m\u001b[0;34m(\u001b[0m\u001b[0mpart\u001b[0m\u001b[0;34m.\u001b[0m\u001b[0mreplace\u001b[0m\u001b[0;34m(\u001b[0m\u001b[0;34m'€'\u001b[0m\u001b[0;34m,\u001b[0m \u001b[0;34m''\u001b[0m\u001b[0;34m)\u001b[0m\u001b[0;34m.\u001b[0m\u001b[0mreplace\u001b[0m\u001b[0;34m(\u001b[0m\u001b[0;34m'$'\u001b[0m\u001b[0;34m,\u001b[0m \u001b[0;34m''\u001b[0m\u001b[0;34m)\u001b[0m\u001b[0;34m.\u001b[0m\u001b[0mreplace\u001b[0m\u001b[0;34m(\u001b[0m\u001b[0;34m','\u001b[0m\u001b[0;34m,\u001b[0m \u001b[0;34m''\u001b[0m\u001b[0;34m)\u001b[0m\u001b[0;34m.\u001b[0m\u001b[0mstrip\u001b[0m\u001b[0;34m(\u001b[0m\u001b[0;34m)\u001b[0m\u001b[0;34m)\u001b[0m \u001b[0;32mfor\u001b[0m \u001b[0mpart\u001b[0m \u001b[0;32min\u001b[0m \u001b[0mprice_string\u001b[0m\u001b[0;34m.\u001b[0m\u001b[0msplit\u001b[0m\u001b[0;34m(\u001b[0m\u001b[0;34m'|'\u001b[0m\u001b[0;34m)\u001b[0m\u001b[0;34m]\u001b[0m\u001b[0;34m\u001b[0m\u001b[0;34m\u001b[0m\u001b[0m\n\u001b[0m\u001b[1;32m      4\u001b[0m \u001b[0;34m\u001b[0m\u001b[0m\n\u001b[1;32m      5\u001b[0m     \u001b[0;31m# Return the last value if it exists, otherwise return 0\u001b[0m\u001b[0;34m\u001b[0m\u001b[0;34m\u001b[0m\u001b[0m\n",
            "\u001b[0;31mValueError\u001b[0m: could not convert string to float: '229.99 229.99'"
          ]
        }
      ]
    },
    {
      "cell_type": "code",
      "source": [
        "def extract_price_value(price_string):\n",
        "    # Extract numerical values from the price string\n",
        "    price_values = [float(part.replace('€', '').replace('$', '').replace(',', '').strip()) for part in price_string.split('|')]\n",
        "\n",
        "    # Return the maximum value if it exists, otherwise return 0\n",
        "    return max(price_values) if price_values else 0\n",
        "\n",
        "# Find the product with the highest price\n",
        "product_with_highest_price = max(lst_product_info, key=lambda x: extract_price_value(x['Price']))\n",
        "\n",
        "# Display the product with the highest price\n",
        "print(\"Product with the Highest Price:\")\n",
        "print(product_with_highest_price)\n"
      ],
      "metadata": {
        "colab": {
          "base_uri": "https://localhost:8080/",
          "height": 399
        },
        "id": "pg1YdbMba1FV",
        "outputId": "637ff390-8859-49de-fd12-2b7a501fe5cb"
      },
      "execution_count": 29,
      "outputs": [
        {
          "output_type": "error",
          "ename": "ValueError",
          "evalue": "ignored",
          "traceback": [
            "\u001b[0;31m---------------------------------------------------------------------------\u001b[0m",
            "\u001b[0;31mValueError\u001b[0m                                Traceback (most recent call last)",
            "\u001b[0;32m<ipython-input-29-c7fa42d4602e>\u001b[0m in \u001b[0;36m<cell line: 9>\u001b[0;34m()\u001b[0m\n\u001b[1;32m      7\u001b[0m \u001b[0;34m\u001b[0m\u001b[0m\n\u001b[1;32m      8\u001b[0m \u001b[0;31m# Find the product with the highest price\u001b[0m\u001b[0;34m\u001b[0m\u001b[0;34m\u001b[0m\u001b[0m\n\u001b[0;32m----> 9\u001b[0;31m \u001b[0mproduct_with_highest_price\u001b[0m \u001b[0;34m=\u001b[0m \u001b[0mmax\u001b[0m\u001b[0;34m(\u001b[0m\u001b[0mlst_product_info\u001b[0m\u001b[0;34m,\u001b[0m \u001b[0mkey\u001b[0m\u001b[0;34m=\u001b[0m\u001b[0;32mlambda\u001b[0m \u001b[0mx\u001b[0m\u001b[0;34m:\u001b[0m \u001b[0mextract_price_value\u001b[0m\u001b[0;34m(\u001b[0m\u001b[0mx\u001b[0m\u001b[0;34m[\u001b[0m\u001b[0;34m'Price'\u001b[0m\u001b[0;34m]\u001b[0m\u001b[0;34m)\u001b[0m\u001b[0;34m)\u001b[0m\u001b[0;34m\u001b[0m\u001b[0;34m\u001b[0m\u001b[0m\n\u001b[0m\u001b[1;32m     10\u001b[0m \u001b[0;34m\u001b[0m\u001b[0m\n\u001b[1;32m     11\u001b[0m \u001b[0;31m# Display the product with the highest price\u001b[0m\u001b[0;34m\u001b[0m\u001b[0;34m\u001b[0m\u001b[0m\n",
            "\u001b[0;32m<ipython-input-29-c7fa42d4602e>\u001b[0m in \u001b[0;36m<lambda>\u001b[0;34m(x)\u001b[0m\n\u001b[1;32m      7\u001b[0m \u001b[0;34m\u001b[0m\u001b[0m\n\u001b[1;32m      8\u001b[0m \u001b[0;31m# Find the product with the highest price\u001b[0m\u001b[0;34m\u001b[0m\u001b[0;34m\u001b[0m\u001b[0m\n\u001b[0;32m----> 9\u001b[0;31m \u001b[0mproduct_with_highest_price\u001b[0m \u001b[0;34m=\u001b[0m \u001b[0mmax\u001b[0m\u001b[0;34m(\u001b[0m\u001b[0mlst_product_info\u001b[0m\u001b[0;34m,\u001b[0m \u001b[0mkey\u001b[0m\u001b[0;34m=\u001b[0m\u001b[0;32mlambda\u001b[0m \u001b[0mx\u001b[0m\u001b[0;34m:\u001b[0m \u001b[0mextract_price_value\u001b[0m\u001b[0;34m(\u001b[0m\u001b[0mx\u001b[0m\u001b[0;34m[\u001b[0m\u001b[0;34m'Price'\u001b[0m\u001b[0;34m]\u001b[0m\u001b[0;34m)\u001b[0m\u001b[0;34m)\u001b[0m\u001b[0;34m\u001b[0m\u001b[0;34m\u001b[0m\u001b[0m\n\u001b[0m\u001b[1;32m     10\u001b[0m \u001b[0;34m\u001b[0m\u001b[0m\n\u001b[1;32m     11\u001b[0m \u001b[0;31m# Display the product with the highest price\u001b[0m\u001b[0;34m\u001b[0m\u001b[0;34m\u001b[0m\u001b[0m\n",
            "\u001b[0;32m<ipython-input-29-c7fa42d4602e>\u001b[0m in \u001b[0;36mextract_price_value\u001b[0;34m(price_string)\u001b[0m\n\u001b[1;32m      1\u001b[0m \u001b[0;32mdef\u001b[0m \u001b[0mextract_price_value\u001b[0m\u001b[0;34m(\u001b[0m\u001b[0mprice_string\u001b[0m\u001b[0;34m)\u001b[0m\u001b[0;34m:\u001b[0m\u001b[0;34m\u001b[0m\u001b[0;34m\u001b[0m\u001b[0m\n\u001b[1;32m      2\u001b[0m     \u001b[0;31m# Extract numerical values from the price string\u001b[0m\u001b[0;34m\u001b[0m\u001b[0;34m\u001b[0m\u001b[0m\n\u001b[0;32m----> 3\u001b[0;31m     \u001b[0mprice_values\u001b[0m \u001b[0;34m=\u001b[0m \u001b[0;34m[\u001b[0m\u001b[0mfloat\u001b[0m\u001b[0;34m(\u001b[0m\u001b[0mpart\u001b[0m\u001b[0;34m.\u001b[0m\u001b[0mreplace\u001b[0m\u001b[0;34m(\u001b[0m\u001b[0;34m'€'\u001b[0m\u001b[0;34m,\u001b[0m \u001b[0;34m''\u001b[0m\u001b[0;34m)\u001b[0m\u001b[0;34m.\u001b[0m\u001b[0mreplace\u001b[0m\u001b[0;34m(\u001b[0m\u001b[0;34m'$'\u001b[0m\u001b[0;34m,\u001b[0m \u001b[0;34m''\u001b[0m\u001b[0;34m)\u001b[0m\u001b[0;34m.\u001b[0m\u001b[0mreplace\u001b[0m\u001b[0;34m(\u001b[0m\u001b[0;34m','\u001b[0m\u001b[0;34m,\u001b[0m \u001b[0;34m''\u001b[0m\u001b[0;34m)\u001b[0m\u001b[0;34m.\u001b[0m\u001b[0mstrip\u001b[0m\u001b[0;34m(\u001b[0m\u001b[0;34m)\u001b[0m\u001b[0;34m)\u001b[0m \u001b[0;32mfor\u001b[0m \u001b[0mpart\u001b[0m \u001b[0;32min\u001b[0m \u001b[0mprice_string\u001b[0m\u001b[0;34m.\u001b[0m\u001b[0msplit\u001b[0m\u001b[0;34m(\u001b[0m\u001b[0;34m'|'\u001b[0m\u001b[0;34m)\u001b[0m\u001b[0;34m]\u001b[0m\u001b[0;34m\u001b[0m\u001b[0;34m\u001b[0m\u001b[0m\n\u001b[0m\u001b[1;32m      4\u001b[0m \u001b[0;34m\u001b[0m\u001b[0m\n\u001b[1;32m      5\u001b[0m     \u001b[0;31m# Return the maximum value if it exists, otherwise return 0\u001b[0m\u001b[0;34m\u001b[0m\u001b[0;34m\u001b[0m\u001b[0m\n",
            "\u001b[0;32m<ipython-input-29-c7fa42d4602e>\u001b[0m in \u001b[0;36m<listcomp>\u001b[0;34m(.0)\u001b[0m\n\u001b[1;32m      1\u001b[0m \u001b[0;32mdef\u001b[0m \u001b[0mextract_price_value\u001b[0m\u001b[0;34m(\u001b[0m\u001b[0mprice_string\u001b[0m\u001b[0;34m)\u001b[0m\u001b[0;34m:\u001b[0m\u001b[0;34m\u001b[0m\u001b[0;34m\u001b[0m\u001b[0m\n\u001b[1;32m      2\u001b[0m     \u001b[0;31m# Extract numerical values from the price string\u001b[0m\u001b[0;34m\u001b[0m\u001b[0;34m\u001b[0m\u001b[0m\n\u001b[0;32m----> 3\u001b[0;31m     \u001b[0mprice_values\u001b[0m \u001b[0;34m=\u001b[0m \u001b[0;34m[\u001b[0m\u001b[0mfloat\u001b[0m\u001b[0;34m(\u001b[0m\u001b[0mpart\u001b[0m\u001b[0;34m.\u001b[0m\u001b[0mreplace\u001b[0m\u001b[0;34m(\u001b[0m\u001b[0;34m'€'\u001b[0m\u001b[0;34m,\u001b[0m \u001b[0;34m''\u001b[0m\u001b[0;34m)\u001b[0m\u001b[0;34m.\u001b[0m\u001b[0mreplace\u001b[0m\u001b[0;34m(\u001b[0m\u001b[0;34m'$'\u001b[0m\u001b[0;34m,\u001b[0m \u001b[0;34m''\u001b[0m\u001b[0;34m)\u001b[0m\u001b[0;34m.\u001b[0m\u001b[0mreplace\u001b[0m\u001b[0;34m(\u001b[0m\u001b[0;34m','\u001b[0m\u001b[0;34m,\u001b[0m \u001b[0;34m''\u001b[0m\u001b[0;34m)\u001b[0m\u001b[0;34m.\u001b[0m\u001b[0mstrip\u001b[0m\u001b[0;34m(\u001b[0m\u001b[0;34m)\u001b[0m\u001b[0;34m)\u001b[0m \u001b[0;32mfor\u001b[0m \u001b[0mpart\u001b[0m \u001b[0;32min\u001b[0m \u001b[0mprice_string\u001b[0m\u001b[0;34m.\u001b[0m\u001b[0msplit\u001b[0m\u001b[0;34m(\u001b[0m\u001b[0;34m'|'\u001b[0m\u001b[0;34m)\u001b[0m\u001b[0;34m]\u001b[0m\u001b[0;34m\u001b[0m\u001b[0;34m\u001b[0m\u001b[0m\n\u001b[0m\u001b[1;32m      4\u001b[0m \u001b[0;34m\u001b[0m\u001b[0m\n\u001b[1;32m      5\u001b[0m     \u001b[0;31m# Return the maximum value if it exists, otherwise return 0\u001b[0m\u001b[0;34m\u001b[0m\u001b[0;34m\u001b[0m\u001b[0m\n",
            "\u001b[0;31mValueError\u001b[0m: could not convert string to float: '229.99 229.99'"
          ]
        }
      ]
    },
    {
      "cell_type": "code",
      "source": [
        "def extract_price_value(price_string):\n",
        "    # Extract numerical values and currency symbols from the price string\n",
        "    price_values = [float(part.replace(',', '').strip()) for part in price_string.replace('€', '$').split('|')]\n",
        "\n",
        "    # Return the maximum value if it exists, otherwise return 0\n",
        "    return max(price_values) if price_values else 0\n",
        "\n",
        "# Find the product with the highest price\n",
        "product_with_highest_price = max(lst_product_info, key=lambda x: extract_price_value(x['Price']))\n",
        "\n",
        "# Display the product with the highest price\n",
        "print(\"Product with the Highest Price:\")\n",
        "print(product_with_highest_price)\n"
      ],
      "metadata": {
        "colab": {
          "base_uri": "https://localhost:8080/",
          "height": 399
        },
        "id": "ZHDxIFC2bNe_",
        "outputId": "1d6fa383-7601-4d28-c788-4fa8b40e7e10"
      },
      "execution_count": 30,
      "outputs": [
        {
          "output_type": "error",
          "ename": "ValueError",
          "evalue": "ignored",
          "traceback": [
            "\u001b[0;31m---------------------------------------------------------------------------\u001b[0m",
            "\u001b[0;31mValueError\u001b[0m                                Traceback (most recent call last)",
            "\u001b[0;32m<ipython-input-30-65594986ed70>\u001b[0m in \u001b[0;36m<cell line: 9>\u001b[0;34m()\u001b[0m\n\u001b[1;32m      7\u001b[0m \u001b[0;34m\u001b[0m\u001b[0m\n\u001b[1;32m      8\u001b[0m \u001b[0;31m# Find the product with the highest price\u001b[0m\u001b[0;34m\u001b[0m\u001b[0;34m\u001b[0m\u001b[0m\n\u001b[0;32m----> 9\u001b[0;31m \u001b[0mproduct_with_highest_price\u001b[0m \u001b[0;34m=\u001b[0m \u001b[0mmax\u001b[0m\u001b[0;34m(\u001b[0m\u001b[0mlst_product_info\u001b[0m\u001b[0;34m,\u001b[0m \u001b[0mkey\u001b[0m\u001b[0;34m=\u001b[0m\u001b[0;32mlambda\u001b[0m \u001b[0mx\u001b[0m\u001b[0;34m:\u001b[0m \u001b[0mextract_price_value\u001b[0m\u001b[0;34m(\u001b[0m\u001b[0mx\u001b[0m\u001b[0;34m[\u001b[0m\u001b[0;34m'Price'\u001b[0m\u001b[0;34m]\u001b[0m\u001b[0;34m)\u001b[0m\u001b[0;34m)\u001b[0m\u001b[0;34m\u001b[0m\u001b[0;34m\u001b[0m\u001b[0m\n\u001b[0m\u001b[1;32m     10\u001b[0m \u001b[0;34m\u001b[0m\u001b[0m\n\u001b[1;32m     11\u001b[0m \u001b[0;31m# Display the product with the highest price\u001b[0m\u001b[0;34m\u001b[0m\u001b[0;34m\u001b[0m\u001b[0m\n",
            "\u001b[0;32m<ipython-input-30-65594986ed70>\u001b[0m in \u001b[0;36m<lambda>\u001b[0;34m(x)\u001b[0m\n\u001b[1;32m      7\u001b[0m \u001b[0;34m\u001b[0m\u001b[0m\n\u001b[1;32m      8\u001b[0m \u001b[0;31m# Find the product with the highest price\u001b[0m\u001b[0;34m\u001b[0m\u001b[0;34m\u001b[0m\u001b[0m\n\u001b[0;32m----> 9\u001b[0;31m \u001b[0mproduct_with_highest_price\u001b[0m \u001b[0;34m=\u001b[0m \u001b[0mmax\u001b[0m\u001b[0;34m(\u001b[0m\u001b[0mlst_product_info\u001b[0m\u001b[0;34m,\u001b[0m \u001b[0mkey\u001b[0m\u001b[0;34m=\u001b[0m\u001b[0;32mlambda\u001b[0m \u001b[0mx\u001b[0m\u001b[0;34m:\u001b[0m \u001b[0mextract_price_value\u001b[0m\u001b[0;34m(\u001b[0m\u001b[0mx\u001b[0m\u001b[0;34m[\u001b[0m\u001b[0;34m'Price'\u001b[0m\u001b[0;34m]\u001b[0m\u001b[0;34m)\u001b[0m\u001b[0;34m)\u001b[0m\u001b[0;34m\u001b[0m\u001b[0;34m\u001b[0m\u001b[0m\n\u001b[0m\u001b[1;32m     10\u001b[0m \u001b[0;34m\u001b[0m\u001b[0m\n\u001b[1;32m     11\u001b[0m \u001b[0;31m# Display the product with the highest price\u001b[0m\u001b[0;34m\u001b[0m\u001b[0;34m\u001b[0m\u001b[0m\n",
            "\u001b[0;32m<ipython-input-30-65594986ed70>\u001b[0m in \u001b[0;36mextract_price_value\u001b[0;34m(price_string)\u001b[0m\n\u001b[1;32m      1\u001b[0m \u001b[0;32mdef\u001b[0m \u001b[0mextract_price_value\u001b[0m\u001b[0;34m(\u001b[0m\u001b[0mprice_string\u001b[0m\u001b[0;34m)\u001b[0m\u001b[0;34m:\u001b[0m\u001b[0;34m\u001b[0m\u001b[0;34m\u001b[0m\u001b[0m\n\u001b[1;32m      2\u001b[0m     \u001b[0;31m# Extract numerical values and currency symbols from the price string\u001b[0m\u001b[0;34m\u001b[0m\u001b[0;34m\u001b[0m\u001b[0m\n\u001b[0;32m----> 3\u001b[0;31m     \u001b[0mprice_values\u001b[0m \u001b[0;34m=\u001b[0m \u001b[0;34m[\u001b[0m\u001b[0mfloat\u001b[0m\u001b[0;34m(\u001b[0m\u001b[0mpart\u001b[0m\u001b[0;34m.\u001b[0m\u001b[0mreplace\u001b[0m\u001b[0;34m(\u001b[0m\u001b[0;34m','\u001b[0m\u001b[0;34m,\u001b[0m \u001b[0;34m''\u001b[0m\u001b[0;34m)\u001b[0m\u001b[0;34m.\u001b[0m\u001b[0mstrip\u001b[0m\u001b[0;34m(\u001b[0m\u001b[0;34m)\u001b[0m\u001b[0;34m)\u001b[0m \u001b[0;32mfor\u001b[0m \u001b[0mpart\u001b[0m \u001b[0;32min\u001b[0m \u001b[0mprice_string\u001b[0m\u001b[0;34m.\u001b[0m\u001b[0mreplace\u001b[0m\u001b[0;34m(\u001b[0m\u001b[0;34m'€'\u001b[0m\u001b[0;34m,\u001b[0m \u001b[0;34m'$'\u001b[0m\u001b[0;34m)\u001b[0m\u001b[0;34m.\u001b[0m\u001b[0msplit\u001b[0m\u001b[0;34m(\u001b[0m\u001b[0;34m'|'\u001b[0m\u001b[0;34m)\u001b[0m\u001b[0;34m]\u001b[0m\u001b[0;34m\u001b[0m\u001b[0;34m\u001b[0m\u001b[0m\n\u001b[0m\u001b[1;32m      4\u001b[0m \u001b[0;34m\u001b[0m\u001b[0m\n\u001b[1;32m      5\u001b[0m     \u001b[0;31m# Return the maximum value if it exists, otherwise return 0\u001b[0m\u001b[0;34m\u001b[0m\u001b[0;34m\u001b[0m\u001b[0m\n",
            "\u001b[0;32m<ipython-input-30-65594986ed70>\u001b[0m in \u001b[0;36m<listcomp>\u001b[0;34m(.0)\u001b[0m\n\u001b[1;32m      1\u001b[0m \u001b[0;32mdef\u001b[0m \u001b[0mextract_price_value\u001b[0m\u001b[0;34m(\u001b[0m\u001b[0mprice_string\u001b[0m\u001b[0;34m)\u001b[0m\u001b[0;34m:\u001b[0m\u001b[0;34m\u001b[0m\u001b[0;34m\u001b[0m\u001b[0m\n\u001b[1;32m      2\u001b[0m     \u001b[0;31m# Extract numerical values and currency symbols from the price string\u001b[0m\u001b[0;34m\u001b[0m\u001b[0;34m\u001b[0m\u001b[0m\n\u001b[0;32m----> 3\u001b[0;31m     \u001b[0mprice_values\u001b[0m \u001b[0;34m=\u001b[0m \u001b[0;34m[\u001b[0m\u001b[0mfloat\u001b[0m\u001b[0;34m(\u001b[0m\u001b[0mpart\u001b[0m\u001b[0;34m.\u001b[0m\u001b[0mreplace\u001b[0m\u001b[0;34m(\u001b[0m\u001b[0;34m','\u001b[0m\u001b[0;34m,\u001b[0m \u001b[0;34m''\u001b[0m\u001b[0;34m)\u001b[0m\u001b[0;34m.\u001b[0m\u001b[0mstrip\u001b[0m\u001b[0;34m(\u001b[0m\u001b[0;34m)\u001b[0m\u001b[0;34m)\u001b[0m \u001b[0;32mfor\u001b[0m \u001b[0mpart\u001b[0m \u001b[0;32min\u001b[0m \u001b[0mprice_string\u001b[0m\u001b[0;34m.\u001b[0m\u001b[0mreplace\u001b[0m\u001b[0;34m(\u001b[0m\u001b[0;34m'€'\u001b[0m\u001b[0;34m,\u001b[0m \u001b[0;34m'$'\u001b[0m\u001b[0;34m)\u001b[0m\u001b[0;34m.\u001b[0m\u001b[0msplit\u001b[0m\u001b[0;34m(\u001b[0m\u001b[0;34m'|'\u001b[0m\u001b[0;34m)\u001b[0m\u001b[0;34m]\u001b[0m\u001b[0;34m\u001b[0m\u001b[0;34m\u001b[0m\u001b[0m\n\u001b[0m\u001b[1;32m      4\u001b[0m \u001b[0;34m\u001b[0m\u001b[0m\n\u001b[1;32m      5\u001b[0m     \u001b[0;31m# Return the maximum value if it exists, otherwise return 0\u001b[0m\u001b[0;34m\u001b[0m\u001b[0;34m\u001b[0m\u001b[0m\n",
            "\u001b[0;31mValueError\u001b[0m: could not convert string to float: '$229.99 $229.99'"
          ]
        }
      ]
    },
    {
      "cell_type": "code",
      "source": [
        "from bs4 import BeautifulSoup\n",
        "import requests\n",
        "\n",
        "def extract_price_value(price_string):\n",
        "    # Extract numerical values from the price string\n",
        "    price_values = [float(part.replace('€', '').replace('$', '').replace(',', '').strip()) for part in price_string.split('|')]\n",
        "    # Return the last value if it exists, otherwise return 0\n",
        "    return price_values[-1] if price_values else 0.0\n",
        "\n",
        "def find_product_with_highest_price(products):\n",
        "    return max(products, key=lambda x: extract_price_value(x['Price']))\n",
        "\n",
        "# Assume you have a list of products with 'Price' information\n",
        "# Example:\n",
        "products = [\n",
        "    {'Title': 'Product 1', 'Price': '$50.00'},\n",
        "    {'Title': 'Product 2', 'Price': '€60.00'},\n",
        "    # Add more products with 'Price' information\n",
        "]\n",
        "\n",
        "# Find the product with the highest price\n",
        "product_with_highest_price = find_product_with_highest_price(products)\n",
        "\n",
        "# Display the product with the highest price\n",
        "print(\"Product with the Highest Price:\")\n",
        "print(\"Title:\", product_with_highest_price['Title'])\n",
        "print(\"Price:\", product_with_highest_price['Price'])\n"
      ],
      "metadata": {
        "colab": {
          "base_uri": "https://localhost:8080/"
        },
        "id": "DbvrueLVgZ8Z",
        "outputId": "5a7ebde1-40ec-4c16-e143-ba0e66a6b904"
      },
      "execution_count": 49,
      "outputs": [
        {
          "output_type": "stream",
          "name": "stdout",
          "text": [
            "Product with the Highest Price:\n",
            "Title: Product 2\n",
            "Price: €60.00\n"
          ]
        }
      ]
    },
    {
      "cell_type": "markdown",
      "source": [
        "## Q6"
      ],
      "metadata": {
        "id": "IQdXgquhWR-6"
      }
    },
    {
      "cell_type": "code",
      "source": [
        "!pip install pandas\n"
      ],
      "metadata": {
        "colab": {
          "base_uri": "https://localhost:8080/"
        },
        "id": "aOoSnLyXWUbB",
        "outputId": "f233bdf4-7284-4281-bda1-014b5b7d5a1d"
      },
      "execution_count": 16,
      "outputs": [
        {
          "output_type": "stream",
          "name": "stdout",
          "text": [
            "Requirement already satisfied: pandas in /usr/local/lib/python3.10/dist-packages (1.5.3)\n",
            "Requirement already satisfied: python-dateutil>=2.8.1 in /usr/local/lib/python3.10/dist-packages (from pandas) (2.8.2)\n",
            "Requirement already satisfied: pytz>=2020.1 in /usr/local/lib/python3.10/dist-packages (from pandas) (2023.3.post1)\n",
            "Requirement already satisfied: numpy>=1.21.0 in /usr/local/lib/python3.10/dist-packages (from pandas) (1.23.5)\n",
            "Requirement already satisfied: six>=1.5 in /usr/local/lib/python3.10/dist-packages (from python-dateutil>=2.8.1->pandas) (1.16.0)\n"
          ]
        }
      ]
    },
    {
      "cell_type": "code",
      "source": [
        "import pandas as pd\n",
        "\n",
        "# Convert the list of products to a DataFrame\n",
        "df = pd.DataFrame(lst_product_info, columns=['Title', 'URL', 'Theme', 'Subtheme', 'Pieces', 'Year', 'Packaging', 'Price', 'Set Type'])\n",
        "\n",
        "# Save the DataFrame to an Excel file\n",
        "df.to_excel('products.xlsx', index=False)\n",
        "\n",
        "print(\"Excel file saved successfully.\")\n",
        "\n"
      ],
      "metadata": {
        "colab": {
          "base_uri": "https://localhost:8080/"
        },
        "id": "LxWfGk6lXJco",
        "outputId": "deb34a57-f2a5-4057-c373-754f93419bfc"
      },
      "execution_count": 18,
      "outputs": [
        {
          "output_type": "stream",
          "name": "stdout",
          "text": [
            "Excel file saved successfully.\n"
          ]
        }
      ]
    },
    {
      "cell_type": "markdown",
      "source": [
        "## Q7"
      ],
      "metadata": {
        "id": "TwCgRVlBXnfy"
      }
    },
    {
      "cell_type": "code",
      "source": [
        "import requests\n",
        "from bs4 import BeautifulSoup\n",
        "\n",
        "def extract_rating_info(product_url):\n",
        "    response = requests.get(product_url)\n",
        "    if response.status_code == 200:\n",
        "        soup = BeautifulSoup(response.text, 'html.parser')\n",
        "\n",
        "        # Extract rating information\n",
        "        rating_box = soup.find('div', {'class': 'rating'})\n",
        "        if rating_box:\n",
        "            rating = rating_box.find('span', {'class': 'rating'}).text\n",
        "            reviews = rating_box.find('span', {'class': 'reviews'}).text\n",
        "            return {'Rating': rating, 'Reviews': reviews}\n",
        "        else:\n",
        "            return {'Rating': 'Not available', 'Reviews': 'Not available'}\n",
        "    else:\n",
        "        return {'Error': 'Failed to retrieve the page'}\n",
        "\n",
        "# Example usage for '21164: The Coral Reef'\n",
        "product_url = 'https://brickset.com/sets/21164-1/The-Coral-Reef'\n",
        "rating_info = extract_rating_info(product_url)\n",
        "print(\"Rating Information for '21164: The Coral Reef':\", rating_info)\n"
      ],
      "metadata": {
        "colab": {
          "base_uri": "https://localhost:8080/"
        },
        "id": "xmVoCZ5-Xtbe",
        "outputId": "2e4b592d-b5c2-4c2b-d7fa-f926927125c7"
      },
      "execution_count": 23,
      "outputs": [
        {
          "output_type": "stream",
          "name": "stdout",
          "text": [
            "Rating Information for '21164: The Coral Reef': {'Rating': 'Not available', 'Reviews': 'Not available'}\n"
          ]
        }
      ]
    },
    {
      "cell_type": "code",
      "source": [
        "import requests\n",
        "from bs4 import BeautifulSoup\n",
        "\n",
        "def extract_rating_info(product_url):\n",
        "    # Send an HTTP request to the product URL\n",
        "    response = requests.get(product_url)\n",
        "\n",
        "    if response.status_code == 200:\n",
        "        # Parse the HTML content of the page\n",
        "        soup = BeautifulSoup(response.text, 'html.parser')\n",
        "\n",
        "        # Extract rating information\n",
        "        rating_element = soup.find('span', {'itemprop': 'ratingValue'})\n",
        "        reviews_element = soup.find('meta', {'itemprop': 'reviewCount'})\n",
        "\n",
        "        # Check if rating information is available\n",
        "        if rating_element and reviews_element:\n",
        "            rating = rating_element.text.strip()\n",
        "            reviews = reviews_element['content'].strip()\n",
        "            return {'Rating': rating, 'Reviews': reviews}\n",
        "        else:\n",
        "            return {'Rating': 'Not available', 'Reviews': 'Not available'}\n",
        "    else:\n",
        "        return {'Rating': 'Not available', 'Reviews': 'Not available'}\n",
        "\n",
        "# Example usage for '21164: The Coral Reef'\n",
        "product_url = 'https://brickset.com/sets/21164-1/The-Coral-Reef'\n",
        "rating_info = extract_rating_info(product_url)\n",
        "print(f\"Rating Information for '21164: The Coral Reef': {rating_info}\")\n"
      ],
      "metadata": {
        "colab": {
          "base_uri": "https://localhost:8080/"
        },
        "id": "4u6qEVfKaQG5",
        "outputId": "0f330e3b-7982-42be-e69c-460b1b37b528"
      },
      "execution_count": 37,
      "outputs": [
        {
          "output_type": "stream",
          "name": "stdout",
          "text": [
            "Rating Information for '21164: The Coral Reef': {'Rating': 'Not available', 'Reviews': 'Not available'}\n"
          ]
        }
      ]
    },
    {
      "cell_type": "code",
      "source": [
        "import requests\n",
        "from bs4 import BeautifulSoup\n",
        "\n",
        "def extract_product_info(url):\n",
        "    response = requests.get(url)\n",
        "    soup = BeautifulSoup(response.content, 'html.parser')\n",
        "\n",
        "    # Extract product information\n",
        "    product_info = {}\n",
        "\n",
        "    # Extract title\n",
        "    title_tag = soup.find('h1', class_='main-title')\n",
        "    product_info['Title'] = title_tag.text.strip() if title_tag else 'Title not available'\n",
        "\n",
        "    # Extract price\n",
        "    price_tag = soup.find('div', class_='subtheme-set-variation-price')\n",
        "    product_info['Price'] = price_tag.text.strip() if price_tag else 'Price not available'\n",
        "\n",
        "    # Extract rating\n",
        "    rating_tag = soup.find('div', class_='user-rating')\n",
        "    product_info['Rating'] = rating_tag['data-rating'] if rating_tag else 'Rating not available'\n",
        "\n",
        "    # Extract pieces count\n",
        "    pieces_tag = soup.find('dt', string='Pieces')\n",
        "    product_info['Pieces'] = pieces_tag.find_next('dd').text.strip() if pieces_tag else 'Pieces count not available'\n",
        "\n",
        "    # Extract theme\n",
        "    theme_tag = soup.find('dt', string='Theme')\n",
        "    product_info['Theme'] = theme_tag.find_next('dd').text.strip() if theme_tag else 'Theme not available'\n",
        "\n",
        "    return product_info\n",
        "\n",
        "# URL for the product '21164: The Coral Reef'\n",
        "product_url = 'https://brickset.com/sets/21164-1/The-Coral-Reef'\n",
        "\n",
        "# Extract product information\n",
        "product_info = extract_product_info(product_url)\n",
        "\n",
        "# Display the extracted information\n",
        "print(\"Product Information for '21164: The Coral Reef'\")\n",
        "print(\"Title:\", product_info['Title'])\n",
        "print(\"Price:\", product_info['Price'])\n",
        "print(\"Rating:\", product_info['Rating'])\n",
        "print(\"Pieces:\", product_info['Pieces'])\n",
        "print(\"Theme:\", product_info['Theme'])\n"
      ],
      "metadata": {
        "colab": {
          "base_uri": "https://localhost:8080/"
        },
        "id": "nEupN5dyfMKk",
        "outputId": "ee8a7294-62db-4622-b929-032d86b6e84d"
      },
      "execution_count": 46,
      "outputs": [
        {
          "output_type": "stream",
          "name": "stdout",
          "text": [
            "Product Information for '21164: The Coral Reef'\n",
            "Title: Title not available\n",
            "Price: Price not available\n",
            "Rating: Rating not available\n",
            "Pieces: 92\n",
            "Theme: Minecraft\n"
          ]
        }
      ]
    }
  ]
}