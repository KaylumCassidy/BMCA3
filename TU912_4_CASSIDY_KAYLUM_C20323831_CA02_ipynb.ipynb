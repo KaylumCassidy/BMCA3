{
  "nbformat": 4,
  "nbformat_minor": 0,
  "metadata": {
    "colab": {
      "provenance": [],
      "authorship_tag": "ABX9TyMpO3We3HfDU16XznaCzSF7",
      "include_colab_link": true
    },
    "kernelspec": {
      "name": "python3",
      "display_name": "Python 3"
    },
    "language_info": {
      "name": "python"
    }
  },
  "cells": [
    {
      "cell_type": "markdown",
      "metadata": {
        "id": "view-in-github",
        "colab_type": "text"
      },
      "source": [
        "<a href=\"https://colab.research.google.com/github/KaylumCassidy/BMCA3/blob/main/TU912_4_CASSIDY_KAYLUM_C20323831_CA02_ipynb.ipynb\" target=\"_parent\"><img src=\"https://colab.research.google.com/assets/colab-badge.svg\" alt=\"Open In Colab\"/></a>"
      ]
    },
    {
      "cell_type": "markdown",
      "source": [
        "# CA2 - C20323831 KAYLUM CASSIDY DT302\n",
        "The Internet has become an inexhaustible and available resource for building data sets. Many\n",
        "market analytics applications start their studies by collecting such resources. Let’s imagine that\n",
        "a start-up company, which start their business in the market of toys and games for children,\n",
        "wants to do a market research on this domain. Let’s start with a website www.brickset.com"
      ],
      "metadata": {
        "id": "zX-sqfMHUPlW"
      }
    },
    {
      "cell_type": "markdown",
      "source": [
        "## Q1"
      ],
      "metadata": {
        "id": "x7MY1KntUSlW"
      }
    },
    {
      "cell_type": "code",
      "source": [
        "start_urls = 'http://brickset.com/sets/year-2023'\n",
        "\n",
        "# Write you code here to download content of HTML page\n",
        "import urllib.request\n",
        "response = urllib.request.urlopen(start_urls)\n",
        "raw_html = response.read().decode(\"utf-8\")\n",
        "\n",
        "# Write you code here to parse HTML page\n",
        "from bs4 import BeautifulSoup\n",
        "soup = BeautifulSoup(raw_html, 'html.parser')\n"
      ],
      "metadata": {
        "id": "4-2IdXnyT0F5"
      },
      "execution_count": 4,
      "outputs": []
    },
    {
      "cell_type": "code",
      "source": [
        "start_url = 'https://brickset.com/sets/year-2023'\n",
        "response = urllib.request.urlopen(start_url)\n",
        "raw_html = response.read().decode(\"utf-8\")\n",
        "soup = BeautifulSoup(raw_html, 'html.parser')\n",
        "\n",
        "# Extract category links\n",
        "category_links = [urllib.parse.urljoin(start_url, a['href']) for a in soup.select('nav a') if 'year' in a['href']]\n",
        "\n",
        "# Print the list of category links\n",
        "print(\"Category Pages:\")\n",
        "for link in category_links:\n",
        "    print(link)\n",
        "\n"
      ],
      "metadata": {
        "colab": {
          "base_uri": "https://localhost:8080/"
        },
        "id": "rwQyNUbJUYlg",
        "outputId": "04a8a48d-be15-4379-8432-75ce88a40920"
      },
      "execution_count": 8,
      "outputs": [
        {
          "output_type": "stream",
          "name": "stdout",
          "text": [
            "Category Pages:\n",
            "https://brickset.com/sets/year-2024\n",
            "https://brickset.com/sets/year-2023\n",
            "https://brickset.com/sets/year-2022\n",
            "https://brickset.com/sets/year-2023/theme-BrickHeadz\n",
            "https://brickset.com/sets/year-2023/theme-City\n",
            "https://brickset.com/sets/year-2023/theme-Collectable-Minifigures\n",
            "https://brickset.com/sets/year-2023/theme-Creator\n",
            "https://brickset.com/sets/year-2023/theme-DC-Comics-Super-Heroes\n",
            "https://brickset.com/sets/year-2023/theme-Disney\n",
            "https://brickset.com/sets/year-2023/theme-Dots\n",
            "https://brickset.com/sets/year-2023/theme-Dreamzzz\n",
            "https://brickset.com/sets/year-2023/theme-Friends\n",
            "https://brickset.com/sets/year-2023/theme-Harry-Potter\n",
            "https://brickset.com/sets/year-2023/theme-Icons\n",
            "https://brickset.com/sets/year-2023/theme-Ideas\n",
            "https://brickset.com/sets/year-2023/theme-Marvel-Super-Heroes\n",
            "https://brickset.com/sets/year-2023/theme-Minecraft\n",
            "https://brickset.com/sets/year-2023/theme-Monkie-Kid\n",
            "https://brickset.com/sets/year-2023/theme-Ninjago\n",
            "https://brickset.com/sets/year-2023/theme-Seasonal\n",
            "https://brickset.com/sets/year-2023/theme-Speed-Champions\n",
            "https://brickset.com/sets/year-2023/theme-Star-Wars\n",
            "https://brickset.com/sets/year-2023/theme-Super-Mario\n",
            "https://brickset.com/sets/year-2023/theme-Technic\n",
            "https://brickset.com/sets/year-2023/tag-polybag\n",
            "https://brickset.com/sets/year-2023/tag-18-plus\n",
            "https://brickset.com/sets/year-2023/tag-gift-with-purchase\n"
          ]
        }
      ]
    },
    {
      "cell_type": "code",
      "source": [
        "import pprint\n",
        "# Write you code here to extract information\n",
        "secbox = soup.find(\"section\", {\"class\":\"setlist\"})\n",
        "print(len(secbox.find_all(\"article\", {\"class\": \"set\"})))\n",
        "for divbox in secbox.find_all(\"article\", {\"class\":\"set\"}):\n",
        "  try:\n",
        "      title = divbox.find(\"h1\").get_text()\n",
        "      href = divbox.find(\"a\").get(\"href\")\n",
        "      theme = divbox.find(\"div\", {\"class\":\"tags\"}).find_all(\"a\")[1].get_text()\n",
        "      subtheme = divbox.find(\"div\", {\"class\":\"tags\"}).find_all(\"a\")[2].get_text()\n",
        "      year = divbox.find(\"div\", {\"class\":\"tags\"}).find_all(\"a\")[-1].get_text()\n",
        "\n",
        "      pieces = divbox.find(\"div\", {\"class\":\"col\"}).find_all(\"a\")[0].get_text()\n",
        "      packaging = divbox.find(\"div\", {\"class\":\"col\"}).find_all(\"dd\")[5].get_text()\n",
        "\n",
        "      kpos = -1\n",
        "      for k, box in enumerate(divbox.find_all(\"dt\")):\n",
        "        if box.get_text().find(\"Related\") >= 0:\n",
        "          kpos = k\n",
        "          break\n",
        "      relatedset = \"\"\n",
        "      if kpos >= 0:\n",
        "        relatedset = divbox.find_all(\"dd\")[kpos].get_text()\n",
        "        #Option1:\n",
        "        relatedset = relatedset[relatedset.find(\"with\")+5:] if relatedset.find(\"with\")>0 else relatedset\n",
        "        #Option2:\n",
        "        l = relatedset.split()\n",
        "        l = [x for x in l if x[-2:]==\"-1\"]\n",
        "        relatedset = \" \".join(l)\n",
        "        #Option3: relatedset = \" \".join([t for t in relatedset.split() if t[-2:]==\"-1\"])\n",
        "\n",
        "      for pricebox in divbox.find(\"div\", {\"class\":\"col\"}).find_all(\"dd\"):\n",
        "        if pricebox.get_text().find(\"$\") >=0:\n",
        "          price = pricebox.get_text()\n",
        "          break\n",
        "\n",
        "\n",
        "      #set_type = divbox.find(\"div\", {\"class\":\"col\"}).find_all(\"dt\")[].get_text()\n",
        "      lst_productlinks.append([title,href,theme,subtheme,pieces,year,packaging,price,relatedset])\n",
        "  except:\n",
        "      pass\n",
        "\n",
        "  oneproduct = {}\n",
        "  oneproduct[\"Title\"] = title\n",
        "  oneproduct[\"Link\"] = href\n",
        "  oneproduct[\"Theme\"] = theme\n",
        "  oneproduct[\"Subtheme\"] = subtheme\n",
        "  oneproduct[\"Pieces\"] = pieces\n",
        "  oneproduct[\"Year\"] = year\n",
        "  oneproduct[\"Packaging\"] = packaging\n",
        "  oneproduct[\"Price\"] = price\n",
        "  oneproduct[\"Set Type\"] = relatedset\n",
        "\n",
        "  pprint.pprint(oneproduct)\n",
        "  #break"
      ],
      "metadata": {
        "colab": {
          "base_uri": "https://localhost:8080/"
        },
        "id": "yzPXMpfoT1nq",
        "outputId": "eb590e23-8708-4767-c90b-c3ffee1543b4"
      },
      "execution_count": 5,
      "outputs": [
        {
          "output_type": "stream",
          "name": "stdout",
          "text": [
            "25\n",
            "{'Link': 'https://images.brickset.com/sets/large/10312-1.jpg?202212120445',\n",
            " 'Packaging': 'Yes',\n",
            " 'Pieces': '2899',\n",
            " 'Price': '$229.99, €229.99 | More',\n",
            " 'Set Type': '',\n",
            " 'Subtheme': 'Modular Buildings Collection',\n",
            " 'Theme': 'Icons',\n",
            " 'Title': 'Jazz Club',\n",
            " 'Year': '2023'}\n",
            "{'Link': 'https://images.brickset.com/sets/large/10313-1.jpg?202301030423',\n",
            " 'Packaging': '12',\n",
            " 'Pieces': '939',\n",
            " 'Price': '$59.99, €59.99 | More',\n",
            " 'Set Type': '',\n",
            " 'Subtheme': 'Botanical Collection',\n",
            " 'Theme': 'Icons',\n",
            " 'Title': 'Wildflower Bouquet',\n",
            " 'Year': '2023'}\n",
            "{'Link': 'https://images.brickset.com/sets/large/10314-1.jpg?202301030424',\n",
            " 'Packaging': '10',\n",
            " 'Pieces': '812',\n",
            " 'Price': '$49.99, €49.99 | More',\n",
            " 'Set Type': '',\n",
            " 'Subtheme': 'Botanical Collection',\n",
            " 'Theme': 'Icons',\n",
            " 'Title': 'Dried Flower Centrepiece',\n",
            " 'Year': '2023'}\n",
            "{'Link': 'https://images.brickset.com/sets/large/10315-1.jpg?202303230615',\n",
            " 'Packaging': '9',\n",
            " 'Pieces': '1363',\n",
            " 'Price': '$109.99, €104.99 | More',\n",
            " 'Set Type': '',\n",
            " 'Subtheme': 'Miscellaneous',\n",
            " 'Theme': 'Icons',\n",
            " 'Title': 'Tranquil Garden',\n",
            " 'Year': '2023'}\n",
            "{'Link': 'https://images.brickset.com/sets/large/10316-1.jpg?202302060243',\n",
            " 'Packaging': 'Yes',\n",
            " 'Pieces': '6167',\n",
            " 'Price': '$499.99, €499.99 | More',\n",
            " 'Set Type': '',\n",
            " 'Subtheme': 'Licensed',\n",
            " 'Theme': 'Icons',\n",
            " 'Title': 'The Lord of the Rings: Rivendell',\n",
            " 'Year': '2023'}\n",
            "{'Link': 'https://images.brickset.com/sets/large/10317-1.jpg?202303160947',\n",
            " 'Packaging': '11',\n",
            " 'Pieces': '2336',\n",
            " 'Price': '$239.99, €239.99 | More',\n",
            " 'Set Type': '',\n",
            " 'Subtheme': 'Vehicles',\n",
            " 'Theme': 'Icons',\n",
            " 'Title': 'Land Rover Classic Defender 90',\n",
            " 'Year': '2023'}\n",
            "{'Link': 'https://images.brickset.com/sets/large/10318-1.jpg?202308040949',\n",
            " 'Packaging': '10',\n",
            " 'Pieces': '2083',\n",
            " 'Price': '$199.99, €199.99 | More',\n",
            " 'Set Type': '',\n",
            " 'Subtheme': 'Miscellaneous',\n",
            " 'Theme': 'Icons',\n",
            " 'Title': 'Concorde',\n",
            " 'Year': '2023'}\n",
            "{'Link': 'https://images.brickset.com/sets/large/10320-1.jpg?202306140313',\n",
            " 'Packaging': 'Yes',\n",
            " 'Pieces': '2509',\n",
            " 'Price': '$214.99, €214.99 | More',\n",
            " 'Set Type': '6276-1',\n",
            " 'Subtheme': 'Pirates System',\n",
            " 'Theme': 'Icons',\n",
            " 'Title': 'Eldorado Fortress',\n",
            " 'Year': '2023'}\n",
            "{'Link': 'https://images.brickset.com/sets/large/10321-1.jpg?202306300156',\n",
            " 'Packaging': '13',\n",
            " 'Pieces': '1210',\n",
            " 'Price': '$149.99, €149.99 | More',\n",
            " 'Set Type': '',\n",
            " 'Subtheme': 'Vehicles',\n",
            " 'Theme': 'Icons',\n",
            " 'Title': 'Corvette',\n",
            " 'Year': '2023'}\n",
            "{'Link': 'https://images.brickset.com/sets/large/10323-1.jpg?202305190122',\n",
            " 'Packaging': 'Box',\n",
            " 'Pieces': '2651',\n",
            " 'Price': '$269.99, €269.99 | More',\n",
            " 'Set Type': '',\n",
            " 'Subtheme': 'Licensed',\n",
            " 'Theme': 'Icons',\n",
            " 'Title': 'PAC-MAN Arcade',\n",
            " 'Year': '2023'}\n",
            "{'Link': 'https://images.brickset.com/sets/large/10325-1.jpg?202309090209',\n",
            " 'Packaging': 'Box',\n",
            " 'Pieces': '1517',\n",
            " 'Price': '$99.99, €99.99 | More',\n",
            " 'Set Type': '',\n",
            " 'Subtheme': 'Winter Village Collection',\n",
            " 'Theme': 'Icons',\n",
            " 'Title': 'Alpine Lodge',\n",
            " 'Year': '2023'}\n",
            "{'Link': 'https://images.brickset.com/sets/large/10411-1.jpg?202211051115',\n",
            " 'Packaging': 'Box',\n",
            " 'Pieces': '124',\n",
            " 'Price': '$69.99, €79.99 | More',\n",
            " 'Set Type': '',\n",
            " 'Subtheme': 'Seasonal',\n",
            " 'Theme': 'Duplo',\n",
            " 'Title': 'Learn About Chinese Culture',\n",
            " 'Year': '2023'}\n",
            "{'Link': 'https://images.brickset.com/sets/large/010423-1.jpg?202304010940',\n",
            " 'Packaging': 'Box',\n",
            " 'Pieces': '5',\n",
            " 'Price': '$69.99, €79.99 | More',\n",
            " 'Set Type': '',\n",
            " 'Subtheme': '2023',\n",
            " 'Theme': 'Miscellaneous',\n",
            " 'Title': 'The Majestic Horse',\n",
            " 'Year': '2023'}\n",
            "{'Link': 'https://images.brickset.com/sets/large/10785-1.jpg?202303230615',\n",
            " 'Packaging': 'Box',\n",
            " 'Pieces': '58',\n",
            " 'Price': '$10.99, €9.99 | More',\n",
            " 'Set Type': '',\n",
            " 'Subtheme': '2023',\n",
            " 'Theme': \"Gabby's Dollhouse\",\n",
            " 'Title': 'Bakey with Cakey Fun',\n",
            " 'Year': '2023'}\n",
            "{'Link': 'https://images.brickset.com/sets/large/10786-1.jpg?202303230615',\n",
            " 'Packaging': 'Box',\n",
            " 'Pieces': '88',\n",
            " 'Price': '$19.99, €20.99 | More',\n",
            " 'Set Type': '',\n",
            " 'Subtheme': '2023',\n",
            " 'Theme': \"Gabby's Dollhouse\",\n",
            " 'Title': \"Gabby & MerCat's Ship & Spa\",\n",
            " 'Year': '2023'}\n",
            "{'Link': 'https://images.brickset.com/sets/large/10787-1.jpg?202303230615',\n",
            " 'Packaging': 'Box',\n",
            " 'Pieces': '130',\n",
            " 'Price': '$34.99, €29.99 | More',\n",
            " 'Set Type': '',\n",
            " 'Subtheme': '2023',\n",
            " 'Theme': \"Gabby's Dollhouse\",\n",
            " 'Title': \"Kitty Fairy's Garden Party\",\n",
            " 'Year': '2023'}\n",
            "{'Link': 'https://images.brickset.com/sets/large/10788-1.jpg?202303230615',\n",
            " 'Packaging': 'Box',\n",
            " 'Pieces': '498',\n",
            " 'Price': '$79.99, €79.99 | More',\n",
            " 'Set Type': '',\n",
            " 'Subtheme': '2023',\n",
            " 'Theme': \"Gabby's Dollhouse\",\n",
            " 'Title': \"Gabby's Dollhouse\",\n",
            " 'Year': '2023'}\n",
            "{'Link': 'https://images.brickset.com/sets/large/10789-1.jpg?202212020933',\n",
            " 'Packaging': 'Box',\n",
            " 'Pieces': '48',\n",
            " 'Price': '$9.99, €9.99 | More',\n",
            " 'Set Type': '',\n",
            " 'Subtheme': 'Spidey and his Amazing Friends',\n",
            " 'Theme': 'Marvel Super Heroes',\n",
            " 'Title': \"Spider-Man's Car and Doc Ock\",\n",
            " 'Year': '2023'}\n",
            "{'Link': 'https://images.brickset.com/sets/large/10790-1.jpg?202212020933',\n",
            " 'Packaging': 'Box',\n",
            " 'Pieces': '149',\n",
            " 'Price': '$34.99, €34.99 | More',\n",
            " 'Set Type': '',\n",
            " 'Subtheme': 'Spidey and his Amazing Friends',\n",
            " 'Theme': 'Marvel Super Heroes',\n",
            " 'Title': \"Team Spidey at Green Goblin's Lighthouse\",\n",
            " 'Year': '2023'}\n",
            "{'Link': 'https://images.brickset.com/sets/large/10791-1.jpg?202212020933',\n",
            " 'Packaging': 'Box',\n",
            " 'Pieces': '187',\n",
            " 'Price': '$49.99, €49.99 | More',\n",
            " 'Set Type': '',\n",
            " 'Subtheme': 'Spidey and his Amazing Friends',\n",
            " 'Theme': 'Marvel Super Heroes',\n",
            " 'Title': \"Team Spidey's Mobile Headquarters\",\n",
            " 'Year': '2023'}\n",
            "{'Link': 'https://images.brickset.com/sets/large/10935-1.jpg?202212020934',\n",
            " 'Packaging': 'Box',\n",
            " 'Pieces': '87',\n",
            " 'Price': '$49.99, €49.99 | More',\n",
            " 'Set Type': '',\n",
            " 'Subtheme': '2023',\n",
            " 'Theme': 'Duplo',\n",
            " 'Title': 'Alphabet Town',\n",
            " 'Year': '2023'}\n",
            "{'Link': 'https://images.brickset.com/sets/large/10981-1.jpg?202301010108',\n",
            " 'Packaging': '6',\n",
            " 'Pieces': '11',\n",
            " 'Price': '$9.99, €9.99 | More',\n",
            " 'Set Type': '66776-1',\n",
            " 'Subtheme': '2023',\n",
            " 'Theme': 'Duplo',\n",
            " 'Title': 'Growing Carrot',\n",
            " 'Year': '2023'}\n",
            "{'Link': 'https://images.brickset.com/sets/large/10982-1.jpg?202301020203',\n",
            " 'Packaging': 'Box',\n",
            " 'Pieces': '19',\n",
            " 'Price': '$19.99, €19.99 | More',\n",
            " 'Set Type': '66776-1',\n",
            " 'Subtheme': '2023',\n",
            " 'Theme': 'Duplo',\n",
            " 'Title': 'Fruit and Vegetable Tractor',\n",
            " 'Year': '2023'}\n",
            "{'Link': 'https://images.brickset.com/sets/large/10983-1.jpg?202301010108',\n",
            " 'Packaging': '6',\n",
            " 'Pieces': '40',\n",
            " 'Price': '$29.99, €29.99 | More',\n",
            " 'Set Type': '',\n",
            " 'Subtheme': '2023',\n",
            " 'Theme': 'Duplo',\n",
            " 'Title': 'Organic Market',\n",
            " 'Year': '2023'}\n",
            "{'Link': 'https://images.brickset.com/sets/large/10984-1.jpg?202301010109',\n",
            " 'Packaging': '10',\n",
            " 'Pieces': '43',\n",
            " 'Price': '$44.99, €44.99 | More',\n",
            " 'Set Type': '',\n",
            " 'Subtheme': '2023',\n",
            " 'Theme': 'Duplo',\n",
            " 'Title': 'Organic Garden',\n",
            " 'Year': '2023'}\n"
          ]
        }
      ]
    },
    {
      "cell_type": "markdown",
      "source": [
        "## Q2"
      ],
      "metadata": {
        "id": "C6Dv1rHlUdTY"
      }
    },
    {
      "cell_type": "code",
      "source": [
        "import pprint\n",
        "lst_productlinks = []\n",
        "\n",
        "\n",
        "secbox = soup.find(\"section\", {\"class\":\"setlist\"})\n",
        "print(len(secbox.find_all(\"article\", {\"class\": \"set\"})))\n",
        "for divbox in secbox.find_all(\"article\", {\"class\":\"set\"}):\n",
        "  try:\n",
        "      title = divbox.find(\"h1\").get_text()\n",
        "      href = divbox.find(\"a\").get(\"href\")\n",
        "      stext = divbox.get_text().strip()\n",
        "      print(title, \"=>\", href)\n",
        "      lst_productlinks.append([title,href])\n",
        "  except:\n",
        "      pass"
      ],
      "metadata": {
        "colab": {
          "base_uri": "https://localhost:8080/"
        },
        "id": "F4_psHGpYW8B",
        "outputId": "ab0f6669-ea4e-44f7-aa5b-32d537870b85"
      },
      "execution_count": 22,
      "outputs": [
        {
          "output_type": "stream",
          "name": "stdout",
          "text": [
            "25\n",
            "Jazz Club => https://images.brickset.com/sets/large/10312-1.jpg?202212120445\n",
            "Wildflower Bouquet => https://images.brickset.com/sets/large/10313-1.jpg?202301030423\n",
            "Dried Flower Centrepiece => https://images.brickset.com/sets/large/10314-1.jpg?202301030424\n",
            "Tranquil Garden => https://images.brickset.com/sets/large/10315-1.jpg?202303230615\n",
            "The Lord of the Rings: Rivendell => https://images.brickset.com/sets/large/10316-1.jpg?202302060243\n",
            "Land Rover Classic Defender 90 => https://images.brickset.com/sets/large/10317-1.jpg?202303160947\n",
            "Concorde => https://images.brickset.com/sets/large/10318-1.jpg?202308040949\n",
            "Eldorado Fortress => https://images.brickset.com/sets/large/10320-1.jpg?202306140313\n",
            "Corvette => https://images.brickset.com/sets/large/10321-1.jpg?202306300156\n",
            "PAC-MAN Arcade => https://images.brickset.com/sets/large/10323-1.jpg?202305190122\n",
            "Alpine Lodge => https://images.brickset.com/sets/large/10325-1.jpg?202309090209\n",
            "Learn About Chinese Culture => https://images.brickset.com/sets/large/10411-1.jpg?202211051115\n",
            "The Majestic Horse => https://images.brickset.com/sets/large/010423-1.jpg?202304010940\n",
            "Bakey with Cakey Fun => https://images.brickset.com/sets/large/10785-1.jpg?202303230615\n",
            "Gabby & MerCat's Ship & Spa => https://images.brickset.com/sets/large/10786-1.jpg?202303230615\n",
            "Kitty Fairy's Garden Party => https://images.brickset.com/sets/large/10787-1.jpg?202303230615\n",
            "Gabby's Dollhouse => https://images.brickset.com/sets/large/10788-1.jpg?202303230615\n",
            "Spider-Man's Car and Doc Ock => https://images.brickset.com/sets/large/10789-1.jpg?202212020933\n",
            "Team Spidey at Green Goblin's Lighthouse => https://images.brickset.com/sets/large/10790-1.jpg?202212020933\n",
            "Team Spidey's Mobile Headquarters => https://images.brickset.com/sets/large/10791-1.jpg?202212020933\n",
            "Alphabet Town => https://images.brickset.com/sets/large/10935-1.jpg?202212020934\n",
            "Growing Carrot => https://images.brickset.com/sets/large/10981-1.jpg?202301010108\n",
            "Fruit and Vegetable Tractor => https://images.brickset.com/sets/large/10982-1.jpg?202301020203\n",
            "Organic Market => https://images.brickset.com/sets/large/10983-1.jpg?202301010108\n",
            "Organic Garden => https://images.brickset.com/sets/large/10984-1.jpg?202301010109\n"
          ]
        }
      ]
    },
    {
      "cell_type": "markdown",
      "source": [
        "## Q3"
      ],
      "metadata": {
        "id": "sfjy8cCPVUWC"
      }
    },
    {
      "cell_type": "code",
      "source": [
        "# Initialize the list to store product information\n",
        "lst_product_info = []\n",
        "\n",
        "# Iterate through each product on the category page\n",
        "for divbox in secbox.find_all(\"article\", {\"class\": \"set\"}):\n",
        "    try:\n",
        "        title = divbox.find(\"h1\").get_text()\n",
        "        href = divbox.find(\"a\").get(\"href\")\n",
        "        theme = divbox.find(\"div\", {\"class\": \"tags\"}).find_all(\"a\")[1].get_text()\n",
        "        subtheme = divbox.find(\"div\", {\"class\": \"tags\"}).find_all(\"a\")[2].get_text()\n",
        "        year = divbox.find(\"div\", {\"class\": \"tags\"}).find_all(\"a\")[-1].get_text()\n",
        "\n",
        "        pieces = divbox.find(\"div\", {\"class\": \"col\"}).find_all(\"a\")[0].get_text()\n",
        "        packaging = divbox.find(\"div\", {\"class\": \"col\"}).find_all(\"dd\")[5].get_text()\n",
        "\n",
        "        kpos = -1\n",
        "        for k, box in enumerate(divbox.find_all(\"dt\")):\n",
        "            if box.get_text().find(\"Related\") >= 0:\n",
        "                kpos = k\n",
        "                break\n",
        "        relatedset = \"\"\n",
        "        if kpos >= 0:\n",
        "            relatedset = divbox.find_all(\"dd\")[kpos].get_text()\n",
        "            # Option1:\n",
        "            relatedset = relatedset[relatedset.find(\"with\") + 5:] if relatedset.find(\"with\") > 0 else relatedset\n",
        "            # Option2:\n",
        "            l = relatedset.split()\n",
        "            l = [x for x in l if x[-2:] == \"-1\"]\n",
        "            relatedset = \" \".join(l)\n",
        "\n",
        "        for pricebox in divbox.find(\"div\", {\"class\": \"col\"}).find_all(\"dd\"):\n",
        "            if pricebox.get_text().find(\"$\") >= 0:\n",
        "                price = pricebox.get_text()\n",
        "                break\n",
        "\n",
        "        # Append product information to the list\n",
        "        lst_product_info.append({\n",
        "            'Title': title,\n",
        "            'URL': href,\n",
        "            'Theme': theme,\n",
        "            'Subtheme': subtheme,\n",
        "            'Pieces': pieces,\n",
        "            'Year': year,\n",
        "            'Packaging': packaging,\n",
        "            'Price': price,\n",
        "            'Set Type': relatedset\n",
        "        })\n",
        "    except:\n",
        "        pass\n",
        "\n",
        "# Print the list of product information\n",
        "print(\"Product Information:\")\n",
        "for product_info in lst_product_info:\n",
        "    pprint.pprint(product_info)\n",
        "\n",
        "# Display the number of products\n",
        "print(\"Number of Products:\", len(lst_product_info))\n"
      ],
      "metadata": {
        "colab": {
          "base_uri": "https://localhost:8080/"
        },
        "id": "yfW6kvOJVEQz",
        "outputId": "ea72fa52-c1bb-4af7-a414-ef3c55df79d4"
      },
      "execution_count": 10,
      "outputs": [
        {
          "output_type": "stream",
          "name": "stdout",
          "text": [
            "Product Information:\n",
            "{'Packaging': 'Yes',\n",
            " 'Pieces': '2899',\n",
            " 'Price': '$229.99, €229.99 | More',\n",
            " 'Set Type': '',\n",
            " 'Subtheme': 'Modular Buildings Collection',\n",
            " 'Theme': 'Icons',\n",
            " 'Title': 'Jazz Club',\n",
            " 'URL': 'https://images.brickset.com/sets/large/10312-1.jpg?202212120445',\n",
            " 'Year': '2023'}\n",
            "{'Packaging': '12',\n",
            " 'Pieces': '939',\n",
            " 'Price': '$59.99, €59.99 | More',\n",
            " 'Set Type': '',\n",
            " 'Subtheme': 'Botanical Collection',\n",
            " 'Theme': 'Icons',\n",
            " 'Title': 'Wildflower Bouquet',\n",
            " 'URL': 'https://images.brickset.com/sets/large/10313-1.jpg?202301030423',\n",
            " 'Year': '2023'}\n",
            "{'Packaging': '10',\n",
            " 'Pieces': '812',\n",
            " 'Price': '$49.99, €49.99 | More',\n",
            " 'Set Type': '',\n",
            " 'Subtheme': 'Botanical Collection',\n",
            " 'Theme': 'Icons',\n",
            " 'Title': 'Dried Flower Centrepiece',\n",
            " 'URL': 'https://images.brickset.com/sets/large/10314-1.jpg?202301030424',\n",
            " 'Year': '2023'}\n",
            "{'Packaging': '9',\n",
            " 'Pieces': '1363',\n",
            " 'Price': '$109.99, €104.99 | More',\n",
            " 'Set Type': '',\n",
            " 'Subtheme': 'Miscellaneous',\n",
            " 'Theme': 'Icons',\n",
            " 'Title': 'Tranquil Garden',\n",
            " 'URL': 'https://images.brickset.com/sets/large/10315-1.jpg?202303230615',\n",
            " 'Year': '2023'}\n",
            "{'Packaging': 'Yes',\n",
            " 'Pieces': '6167',\n",
            " 'Price': '$499.99, €499.99 | More',\n",
            " 'Set Type': '',\n",
            " 'Subtheme': 'Licensed',\n",
            " 'Theme': 'Icons',\n",
            " 'Title': 'The Lord of the Rings: Rivendell',\n",
            " 'URL': 'https://images.brickset.com/sets/large/10316-1.jpg?202302060243',\n",
            " 'Year': '2023'}\n",
            "{'Packaging': '11',\n",
            " 'Pieces': '2336',\n",
            " 'Price': '$239.99, €239.99 | More',\n",
            " 'Set Type': '',\n",
            " 'Subtheme': 'Vehicles',\n",
            " 'Theme': 'Icons',\n",
            " 'Title': 'Land Rover Classic Defender 90',\n",
            " 'URL': 'https://images.brickset.com/sets/large/10317-1.jpg?202303160947',\n",
            " 'Year': '2023'}\n",
            "{'Packaging': '10',\n",
            " 'Pieces': '2083',\n",
            " 'Price': '$199.99, €199.99 | More',\n",
            " 'Set Type': '',\n",
            " 'Subtheme': 'Miscellaneous',\n",
            " 'Theme': 'Icons',\n",
            " 'Title': 'Concorde',\n",
            " 'URL': 'https://images.brickset.com/sets/large/10318-1.jpg?202308040949',\n",
            " 'Year': '2023'}\n",
            "{'Packaging': 'Yes',\n",
            " 'Pieces': '2509',\n",
            " 'Price': '$214.99, €214.99 | More',\n",
            " 'Set Type': '6276-1',\n",
            " 'Subtheme': 'Pirates System',\n",
            " 'Theme': 'Icons',\n",
            " 'Title': 'Eldorado Fortress',\n",
            " 'URL': 'https://images.brickset.com/sets/large/10320-1.jpg?202306140313',\n",
            " 'Year': '2023'}\n",
            "{'Packaging': '13',\n",
            " 'Pieces': '1210',\n",
            " 'Price': '$149.99, €149.99 | More',\n",
            " 'Set Type': '',\n",
            " 'Subtheme': 'Vehicles',\n",
            " 'Theme': 'Icons',\n",
            " 'Title': 'Corvette',\n",
            " 'URL': 'https://images.brickset.com/sets/large/10321-1.jpg?202306300156',\n",
            " 'Year': '2023'}\n",
            "{'Packaging': 'Box',\n",
            " 'Pieces': '2651',\n",
            " 'Price': '$269.99, €269.99 | More',\n",
            " 'Set Type': '',\n",
            " 'Subtheme': 'Licensed',\n",
            " 'Theme': 'Icons',\n",
            " 'Title': 'PAC-MAN Arcade',\n",
            " 'URL': 'https://images.brickset.com/sets/large/10323-1.jpg?202305190122',\n",
            " 'Year': '2023'}\n",
            "{'Packaging': 'Box',\n",
            " 'Pieces': '1517',\n",
            " 'Price': '$99.99, €99.99 | More',\n",
            " 'Set Type': '',\n",
            " 'Subtheme': 'Winter Village Collection',\n",
            " 'Theme': 'Icons',\n",
            " 'Title': 'Alpine Lodge',\n",
            " 'URL': 'https://images.brickset.com/sets/large/10325-1.jpg?202309090209',\n",
            " 'Year': '2023'}\n",
            "{'Packaging': 'Box',\n",
            " 'Pieces': '124',\n",
            " 'Price': '$69.99, €79.99 | More',\n",
            " 'Set Type': '',\n",
            " 'Subtheme': 'Seasonal',\n",
            " 'Theme': 'Duplo',\n",
            " 'Title': 'Learn About Chinese Culture',\n",
            " 'URL': 'https://images.brickset.com/sets/large/10411-1.jpg?202211051115',\n",
            " 'Year': '2023'}\n",
            "{'Packaging': 'Box',\n",
            " 'Pieces': '58',\n",
            " 'Price': '$10.99, €9.99 | More',\n",
            " 'Set Type': '',\n",
            " 'Subtheme': '2023',\n",
            " 'Theme': \"Gabby's Dollhouse\",\n",
            " 'Title': 'Bakey with Cakey Fun',\n",
            " 'URL': 'https://images.brickset.com/sets/large/10785-1.jpg?202303230615',\n",
            " 'Year': '2023'}\n",
            "{'Packaging': 'Box',\n",
            " 'Pieces': '88',\n",
            " 'Price': '$19.99, €20.99 | More',\n",
            " 'Set Type': '',\n",
            " 'Subtheme': '2023',\n",
            " 'Theme': \"Gabby's Dollhouse\",\n",
            " 'Title': \"Gabby & MerCat's Ship & Spa\",\n",
            " 'URL': 'https://images.brickset.com/sets/large/10786-1.jpg?202303230615',\n",
            " 'Year': '2023'}\n",
            "{'Packaging': 'Box',\n",
            " 'Pieces': '130',\n",
            " 'Price': '$34.99, €29.99 | More',\n",
            " 'Set Type': '',\n",
            " 'Subtheme': '2023',\n",
            " 'Theme': \"Gabby's Dollhouse\",\n",
            " 'Title': \"Kitty Fairy's Garden Party\",\n",
            " 'URL': 'https://images.brickset.com/sets/large/10787-1.jpg?202303230615',\n",
            " 'Year': '2023'}\n",
            "{'Packaging': 'Box',\n",
            " 'Pieces': '498',\n",
            " 'Price': '$79.99, €79.99 | More',\n",
            " 'Set Type': '',\n",
            " 'Subtheme': '2023',\n",
            " 'Theme': \"Gabby's Dollhouse\",\n",
            " 'Title': \"Gabby's Dollhouse\",\n",
            " 'URL': 'https://images.brickset.com/sets/large/10788-1.jpg?202303230615',\n",
            " 'Year': '2023'}\n",
            "{'Packaging': 'Box',\n",
            " 'Pieces': '48',\n",
            " 'Price': '$9.99, €9.99 | More',\n",
            " 'Set Type': '',\n",
            " 'Subtheme': 'Spidey and his Amazing Friends',\n",
            " 'Theme': 'Marvel Super Heroes',\n",
            " 'Title': \"Spider-Man's Car and Doc Ock\",\n",
            " 'URL': 'https://images.brickset.com/sets/large/10789-1.jpg?202212020933',\n",
            " 'Year': '2023'}\n",
            "{'Packaging': 'Box',\n",
            " 'Pieces': '149',\n",
            " 'Price': '$34.99, €34.99 | More',\n",
            " 'Set Type': '',\n",
            " 'Subtheme': 'Spidey and his Amazing Friends',\n",
            " 'Theme': 'Marvel Super Heroes',\n",
            " 'Title': \"Team Spidey at Green Goblin's Lighthouse\",\n",
            " 'URL': 'https://images.brickset.com/sets/large/10790-1.jpg?202212020933',\n",
            " 'Year': '2023'}\n",
            "{'Packaging': 'Box',\n",
            " 'Pieces': '187',\n",
            " 'Price': '$49.99, €49.99 | More',\n",
            " 'Set Type': '',\n",
            " 'Subtheme': 'Spidey and his Amazing Friends',\n",
            " 'Theme': 'Marvel Super Heroes',\n",
            " 'Title': \"Team Spidey's Mobile Headquarters\",\n",
            " 'URL': 'https://images.brickset.com/sets/large/10791-1.jpg?202212020933',\n",
            " 'Year': '2023'}\n",
            "{'Packaging': 'Box',\n",
            " 'Pieces': '87',\n",
            " 'Price': '$49.99, €49.99 | More',\n",
            " 'Set Type': '',\n",
            " 'Subtheme': '2023',\n",
            " 'Theme': 'Duplo',\n",
            " 'Title': 'Alphabet Town',\n",
            " 'URL': 'https://images.brickset.com/sets/large/10935-1.jpg?202212020934',\n",
            " 'Year': '2023'}\n",
            "{'Packaging': '6',\n",
            " 'Pieces': '11',\n",
            " 'Price': '$9.99, €9.99 | More',\n",
            " 'Set Type': '66776-1',\n",
            " 'Subtheme': '2023',\n",
            " 'Theme': 'Duplo',\n",
            " 'Title': 'Growing Carrot',\n",
            " 'URL': 'https://images.brickset.com/sets/large/10981-1.jpg?202301010108',\n",
            " 'Year': '2023'}\n",
            "{'Packaging': 'Box',\n",
            " 'Pieces': '19',\n",
            " 'Price': '$19.99, €19.99 | More',\n",
            " 'Set Type': '66776-1',\n",
            " 'Subtheme': '2023',\n",
            " 'Theme': 'Duplo',\n",
            " 'Title': 'Fruit and Vegetable Tractor',\n",
            " 'URL': 'https://images.brickset.com/sets/large/10982-1.jpg?202301020203',\n",
            " 'Year': '2023'}\n",
            "{'Packaging': '6',\n",
            " 'Pieces': '40',\n",
            " 'Price': '$29.99, €29.99 | More',\n",
            " 'Set Type': '',\n",
            " 'Subtheme': '2023',\n",
            " 'Theme': 'Duplo',\n",
            " 'Title': 'Organic Market',\n",
            " 'URL': 'https://images.brickset.com/sets/large/10983-1.jpg?202301010108',\n",
            " 'Year': '2023'}\n",
            "{'Packaging': '10',\n",
            " 'Pieces': '43',\n",
            " 'Price': '$44.99, €44.99 | More',\n",
            " 'Set Type': '',\n",
            " 'Subtheme': '2023',\n",
            " 'Theme': 'Duplo',\n",
            " 'Title': 'Organic Garden',\n",
            " 'URL': 'https://images.brickset.com/sets/large/10984-1.jpg?202301010109',\n",
            " 'Year': '2023'}\n",
            "Number of Products: 24\n"
          ]
        }
      ]
    },
    {
      "cell_type": "markdown",
      "source": [
        "## Q4"
      ],
      "metadata": {
        "id": "BKWoOKubVRn1"
      }
    },
    {
      "cell_type": "code",
      "source": [
        "# Extract unique themes and subthemes\n",
        "unique_themes = set(product_info['Theme'] for product_info in lst_product_info)\n",
        "unique_subthemes = set(product_info['Subtheme'] for product_info in lst_product_info)\n",
        "\n",
        "# Display unique themes\n",
        "print(\"Unique Themes:\")\n",
        "for theme in unique_themes:\n",
        "    print(theme)\n",
        "\n",
        "# Display unique subthemes\n",
        "print(\"\\nUnique Subthemes:\")\n",
        "for subtheme in unique_subthemes:\n",
        "    print(subtheme)\n",
        "\n",
        "# Display the number of unique themes and subthemes\n",
        "print(\"\\nNumber of Unique Themes:\", len(unique_themes))\n",
        "print(\"Number of Unique Subthemes:\", len(unique_subthemes))\n"
      ],
      "metadata": {
        "colab": {
          "base_uri": "https://localhost:8080/"
        },
        "id": "2hc9kAGqVQ-p",
        "outputId": "02f7f1c2-c898-46ef-8b60-b91154abdb82"
      },
      "execution_count": 11,
      "outputs": [
        {
          "output_type": "stream",
          "name": "stdout",
          "text": [
            "Unique Themes:\n",
            "Marvel Super Heroes\n",
            "Icons\n",
            "Gabby's Dollhouse\n",
            "Duplo\n",
            "\n",
            "Unique Subthemes:\n",
            "Pirates System\n",
            "Miscellaneous\n",
            "Licensed\n",
            "Vehicles\n",
            "Winter Village Collection\n",
            "Modular Buildings Collection\n",
            "Seasonal\n",
            "Spidey and his Amazing Friends\n",
            "Botanical Collection\n",
            "2023\n",
            "\n",
            "Number of Unique Themes: 4\n",
            "Number of Unique Subthemes: 10\n"
          ]
        }
      ]
    },
    {
      "cell_type": "markdown",
      "source": [
        "## Q5"
      ],
      "metadata": {
        "id": "PiML0AZLVtd5"
      }
    },
    {
      "cell_type": "code",
      "source": [
        "# Question 5\n",
        "max_price_product = max(lst_product_info, key=lambda x: float(x.get('price', 0) or 0))\n",
        "print(\"Product with Highest Price:\")\n",
        "print(max_price_product)"
      ],
      "metadata": {
        "colab": {
          "base_uri": "https://localhost:8080/"
        },
        "id": "RXtQewpHjKz7",
        "outputId": "57492f8e-75ff-43f3-d414-2030a892a4c2"
      },
      "execution_count": 59,
      "outputs": [
        {
          "output_type": "stream",
          "name": "stdout",
          "text": [
            "Product with Highest Price:\n",
            "{'Title': 'Jazz Club', 'URL': 'https://images.brickset.com/sets/large/10312-1.jpg?202212120445', 'Theme': 'Icons', 'Subtheme': 'Modular Buildings Collection', 'Pieces': '2899', 'Year': '2023', 'Packaging': 'Yes', 'Price': '$229.99, €229.99 | More', 'Set Type': ''}\n"
          ]
        }
      ]
    },
    {
      "cell_type": "code",
      "source": [
        "def find_product_with_highest_price(products):\n",
        "    # Find the product with the highest price\n",
        "    return max(products, key=lambda x: max(float(part.replace('€', '').replace('$', '').replace(',', '').strip()) for part in x['Price'].split('|')))\n",
        "\n",
        "# Display the product with the highest price\n",
        "product_with_highest_price = find_product_with_highest_price(lst_product_info)\n",
        "\n",
        "# Print the product with the highest price\n",
        "print(\"Product with the Highest Price:\")\n",
        "print(\"Title:\", product_with_highest_price['Title'])\n",
        "print(\"Price:\", max(float(part.replace('€', '').replace('$', '').replace(',', '').strip()) for part in product_with_highest_price['Price'].split('|')))\n"
      ],
      "metadata": {
        "colab": {
          "base_uri": "https://localhost:8080/",
          "height": 417
        },
        "id": "sWCQmnY-g8Ur",
        "outputId": "da1126a6-5f36-4c02-febe-8f6e3c5a221d"
      },
      "execution_count": 52,
      "outputs": [
        {
          "output_type": "error",
          "ename": "ValueError",
          "evalue": "ignored",
          "traceback": [
            "\u001b[0;31m---------------------------------------------------------------------------\u001b[0m",
            "\u001b[0;31mValueError\u001b[0m                                Traceback (most recent call last)",
            "\u001b[0;32m<ipython-input-52-28a95e7032bf>\u001b[0m in \u001b[0;36m<cell line: 6>\u001b[0;34m()\u001b[0m\n\u001b[1;32m      4\u001b[0m \u001b[0;34m\u001b[0m\u001b[0m\n\u001b[1;32m      5\u001b[0m \u001b[0;31m# Display the product with the highest price\u001b[0m\u001b[0;34m\u001b[0m\u001b[0;34m\u001b[0m\u001b[0m\n\u001b[0;32m----> 6\u001b[0;31m \u001b[0mproduct_with_highest_price\u001b[0m \u001b[0;34m=\u001b[0m \u001b[0mfind_product_with_highest_price\u001b[0m\u001b[0;34m(\u001b[0m\u001b[0mlst_product_info\u001b[0m\u001b[0;34m)\u001b[0m\u001b[0;34m\u001b[0m\u001b[0;34m\u001b[0m\u001b[0m\n\u001b[0m\u001b[1;32m      7\u001b[0m \u001b[0;34m\u001b[0m\u001b[0m\n\u001b[1;32m      8\u001b[0m \u001b[0;31m# Print the product with the highest price\u001b[0m\u001b[0;34m\u001b[0m\u001b[0;34m\u001b[0m\u001b[0m\n",
            "\u001b[0;32m<ipython-input-52-28a95e7032bf>\u001b[0m in \u001b[0;36mfind_product_with_highest_price\u001b[0;34m(products)\u001b[0m\n\u001b[1;32m      1\u001b[0m \u001b[0;32mdef\u001b[0m \u001b[0mfind_product_with_highest_price\u001b[0m\u001b[0;34m(\u001b[0m\u001b[0mproducts\u001b[0m\u001b[0;34m)\u001b[0m\u001b[0;34m:\u001b[0m\u001b[0;34m\u001b[0m\u001b[0;34m\u001b[0m\u001b[0m\n\u001b[1;32m      2\u001b[0m     \u001b[0;31m# Find the product with the highest price\u001b[0m\u001b[0;34m\u001b[0m\u001b[0;34m\u001b[0m\u001b[0m\n\u001b[0;32m----> 3\u001b[0;31m     \u001b[0;32mreturn\u001b[0m \u001b[0mmax\u001b[0m\u001b[0;34m(\u001b[0m\u001b[0mproducts\u001b[0m\u001b[0;34m,\u001b[0m \u001b[0mkey\u001b[0m\u001b[0;34m=\u001b[0m\u001b[0;32mlambda\u001b[0m \u001b[0mx\u001b[0m\u001b[0;34m:\u001b[0m \u001b[0mmax\u001b[0m\u001b[0;34m(\u001b[0m\u001b[0mfloat\u001b[0m\u001b[0;34m(\u001b[0m\u001b[0mpart\u001b[0m\u001b[0;34m.\u001b[0m\u001b[0mreplace\u001b[0m\u001b[0;34m(\u001b[0m\u001b[0;34m'€'\u001b[0m\u001b[0;34m,\u001b[0m \u001b[0;34m''\u001b[0m\u001b[0;34m)\u001b[0m\u001b[0;34m.\u001b[0m\u001b[0mreplace\u001b[0m\u001b[0;34m(\u001b[0m\u001b[0;34m'$'\u001b[0m\u001b[0;34m,\u001b[0m \u001b[0;34m''\u001b[0m\u001b[0;34m)\u001b[0m\u001b[0;34m.\u001b[0m\u001b[0mreplace\u001b[0m\u001b[0;34m(\u001b[0m\u001b[0;34m','\u001b[0m\u001b[0;34m,\u001b[0m \u001b[0;34m''\u001b[0m\u001b[0;34m)\u001b[0m\u001b[0;34m.\u001b[0m\u001b[0mstrip\u001b[0m\u001b[0;34m(\u001b[0m\u001b[0;34m)\u001b[0m\u001b[0;34m)\u001b[0m \u001b[0;32mfor\u001b[0m \u001b[0mpart\u001b[0m \u001b[0;32min\u001b[0m \u001b[0mx\u001b[0m\u001b[0;34m[\u001b[0m\u001b[0;34m'Price'\u001b[0m\u001b[0;34m]\u001b[0m\u001b[0;34m.\u001b[0m\u001b[0msplit\u001b[0m\u001b[0;34m(\u001b[0m\u001b[0;34m'|'\u001b[0m\u001b[0;34m)\u001b[0m\u001b[0;34m)\u001b[0m\u001b[0;34m)\u001b[0m\u001b[0;34m\u001b[0m\u001b[0;34m\u001b[0m\u001b[0m\n\u001b[0m\u001b[1;32m      4\u001b[0m \u001b[0;34m\u001b[0m\u001b[0m\n\u001b[1;32m      5\u001b[0m \u001b[0;31m# Display the product with the highest price\u001b[0m\u001b[0;34m\u001b[0m\u001b[0;34m\u001b[0m\u001b[0m\n",
            "\u001b[0;32m<ipython-input-52-28a95e7032bf>\u001b[0m in \u001b[0;36m<lambda>\u001b[0;34m(x)\u001b[0m\n\u001b[1;32m      1\u001b[0m \u001b[0;32mdef\u001b[0m \u001b[0mfind_product_with_highest_price\u001b[0m\u001b[0;34m(\u001b[0m\u001b[0mproducts\u001b[0m\u001b[0;34m)\u001b[0m\u001b[0;34m:\u001b[0m\u001b[0;34m\u001b[0m\u001b[0;34m\u001b[0m\u001b[0m\n\u001b[1;32m      2\u001b[0m     \u001b[0;31m# Find the product with the highest price\u001b[0m\u001b[0;34m\u001b[0m\u001b[0;34m\u001b[0m\u001b[0m\n\u001b[0;32m----> 3\u001b[0;31m     \u001b[0;32mreturn\u001b[0m \u001b[0mmax\u001b[0m\u001b[0;34m(\u001b[0m\u001b[0mproducts\u001b[0m\u001b[0;34m,\u001b[0m \u001b[0mkey\u001b[0m\u001b[0;34m=\u001b[0m\u001b[0;32mlambda\u001b[0m \u001b[0mx\u001b[0m\u001b[0;34m:\u001b[0m \u001b[0mmax\u001b[0m\u001b[0;34m(\u001b[0m\u001b[0mfloat\u001b[0m\u001b[0;34m(\u001b[0m\u001b[0mpart\u001b[0m\u001b[0;34m.\u001b[0m\u001b[0mreplace\u001b[0m\u001b[0;34m(\u001b[0m\u001b[0;34m'€'\u001b[0m\u001b[0;34m,\u001b[0m \u001b[0;34m''\u001b[0m\u001b[0;34m)\u001b[0m\u001b[0;34m.\u001b[0m\u001b[0mreplace\u001b[0m\u001b[0;34m(\u001b[0m\u001b[0;34m'$'\u001b[0m\u001b[0;34m,\u001b[0m \u001b[0;34m''\u001b[0m\u001b[0;34m)\u001b[0m\u001b[0;34m.\u001b[0m\u001b[0mreplace\u001b[0m\u001b[0;34m(\u001b[0m\u001b[0;34m','\u001b[0m\u001b[0;34m,\u001b[0m \u001b[0;34m''\u001b[0m\u001b[0;34m)\u001b[0m\u001b[0;34m.\u001b[0m\u001b[0mstrip\u001b[0m\u001b[0;34m(\u001b[0m\u001b[0;34m)\u001b[0m\u001b[0;34m)\u001b[0m \u001b[0;32mfor\u001b[0m \u001b[0mpart\u001b[0m \u001b[0;32min\u001b[0m \u001b[0mx\u001b[0m\u001b[0;34m[\u001b[0m\u001b[0;34m'Price'\u001b[0m\u001b[0;34m]\u001b[0m\u001b[0;34m.\u001b[0m\u001b[0msplit\u001b[0m\u001b[0;34m(\u001b[0m\u001b[0;34m'|'\u001b[0m\u001b[0;34m)\u001b[0m\u001b[0;34m)\u001b[0m\u001b[0;34m)\u001b[0m\u001b[0;34m\u001b[0m\u001b[0;34m\u001b[0m\u001b[0m\n\u001b[0m\u001b[1;32m      4\u001b[0m \u001b[0;34m\u001b[0m\u001b[0m\n\u001b[1;32m      5\u001b[0m \u001b[0;31m# Display the product with the highest price\u001b[0m\u001b[0;34m\u001b[0m\u001b[0;34m\u001b[0m\u001b[0m\n",
            "\u001b[0;32m<ipython-input-52-28a95e7032bf>\u001b[0m in \u001b[0;36m<genexpr>\u001b[0;34m(.0)\u001b[0m\n\u001b[1;32m      1\u001b[0m \u001b[0;32mdef\u001b[0m \u001b[0mfind_product_with_highest_price\u001b[0m\u001b[0;34m(\u001b[0m\u001b[0mproducts\u001b[0m\u001b[0;34m)\u001b[0m\u001b[0;34m:\u001b[0m\u001b[0;34m\u001b[0m\u001b[0;34m\u001b[0m\u001b[0m\n\u001b[1;32m      2\u001b[0m     \u001b[0;31m# Find the product with the highest price\u001b[0m\u001b[0;34m\u001b[0m\u001b[0;34m\u001b[0m\u001b[0m\n\u001b[0;32m----> 3\u001b[0;31m     \u001b[0;32mreturn\u001b[0m \u001b[0mmax\u001b[0m\u001b[0;34m(\u001b[0m\u001b[0mproducts\u001b[0m\u001b[0;34m,\u001b[0m \u001b[0mkey\u001b[0m\u001b[0;34m=\u001b[0m\u001b[0;32mlambda\u001b[0m \u001b[0mx\u001b[0m\u001b[0;34m:\u001b[0m \u001b[0mmax\u001b[0m\u001b[0;34m(\u001b[0m\u001b[0mfloat\u001b[0m\u001b[0;34m(\u001b[0m\u001b[0mpart\u001b[0m\u001b[0;34m.\u001b[0m\u001b[0mreplace\u001b[0m\u001b[0;34m(\u001b[0m\u001b[0;34m'€'\u001b[0m\u001b[0;34m,\u001b[0m \u001b[0;34m''\u001b[0m\u001b[0;34m)\u001b[0m\u001b[0;34m.\u001b[0m\u001b[0mreplace\u001b[0m\u001b[0;34m(\u001b[0m\u001b[0;34m'$'\u001b[0m\u001b[0;34m,\u001b[0m \u001b[0;34m''\u001b[0m\u001b[0;34m)\u001b[0m\u001b[0;34m.\u001b[0m\u001b[0mreplace\u001b[0m\u001b[0;34m(\u001b[0m\u001b[0;34m','\u001b[0m\u001b[0;34m,\u001b[0m \u001b[0;34m''\u001b[0m\u001b[0;34m)\u001b[0m\u001b[0;34m.\u001b[0m\u001b[0mstrip\u001b[0m\u001b[0;34m(\u001b[0m\u001b[0;34m)\u001b[0m\u001b[0;34m)\u001b[0m \u001b[0;32mfor\u001b[0m \u001b[0mpart\u001b[0m \u001b[0;32min\u001b[0m \u001b[0mx\u001b[0m\u001b[0;34m[\u001b[0m\u001b[0;34m'Price'\u001b[0m\u001b[0;34m]\u001b[0m\u001b[0;34m.\u001b[0m\u001b[0msplit\u001b[0m\u001b[0;34m(\u001b[0m\u001b[0;34m'|'\u001b[0m\u001b[0;34m)\u001b[0m\u001b[0;34m)\u001b[0m\u001b[0;34m)\u001b[0m\u001b[0;34m\u001b[0m\u001b[0;34m\u001b[0m\u001b[0m\n\u001b[0m\u001b[1;32m      4\u001b[0m \u001b[0;34m\u001b[0m\u001b[0m\n\u001b[1;32m      5\u001b[0m \u001b[0;31m# Display the product with the highest price\u001b[0m\u001b[0;34m\u001b[0m\u001b[0;34m\u001b[0m\u001b[0m\n",
            "\u001b[0;31mValueError\u001b[0m: could not convert string to float: '229.99 229.99'"
          ]
        }
      ]
    },
    {
      "cell_type": "markdown",
      "source": [
        "## Q6"
      ],
      "metadata": {
        "id": "IQdXgquhWR-6"
      }
    },
    {
      "cell_type": "code",
      "source": [
        "!pip install pandas\n"
      ],
      "metadata": {
        "colab": {
          "base_uri": "https://localhost:8080/"
        },
        "id": "aOoSnLyXWUbB",
        "outputId": "f233bdf4-7284-4281-bda1-014b5b7d5a1d"
      },
      "execution_count": 16,
      "outputs": [
        {
          "output_type": "stream",
          "name": "stdout",
          "text": [
            "Requirement already satisfied: pandas in /usr/local/lib/python3.10/dist-packages (1.5.3)\n",
            "Requirement already satisfied: python-dateutil>=2.8.1 in /usr/local/lib/python3.10/dist-packages (from pandas) (2.8.2)\n",
            "Requirement already satisfied: pytz>=2020.1 in /usr/local/lib/python3.10/dist-packages (from pandas) (2023.3.post1)\n",
            "Requirement already satisfied: numpy>=1.21.0 in /usr/local/lib/python3.10/dist-packages (from pandas) (1.23.5)\n",
            "Requirement already satisfied: six>=1.5 in /usr/local/lib/python3.10/dist-packages (from python-dateutil>=2.8.1->pandas) (1.16.0)\n"
          ]
        }
      ]
    },
    {
      "cell_type": "code",
      "source": [
        "import pandas as pd\n",
        "\n",
        "# Convert the list of products to a DataFrame\n",
        "df = pd.DataFrame(lst_product_info, columns=['Title', 'URL', 'Theme', 'Subtheme', 'Pieces', 'Year', 'Packaging', 'Price', 'Set Type'])\n",
        "\n",
        "# Save the DataFrame to an Excel file\n",
        "df.to_excel('products.xlsx', index=False)\n",
        "\n",
        "print(\"Excel file saved successfully.\")\n",
        "\n"
      ],
      "metadata": {
        "colab": {
          "base_uri": "https://localhost:8080/"
        },
        "id": "LxWfGk6lXJco",
        "outputId": "deb34a57-f2a5-4057-c373-754f93419bfc"
      },
      "execution_count": 18,
      "outputs": [
        {
          "output_type": "stream",
          "name": "stdout",
          "text": [
            "Excel file saved successfully.\n"
          ]
        }
      ]
    },
    {
      "cell_type": "markdown",
      "source": [
        "## Q7"
      ],
      "metadata": {
        "id": "TwCgRVlBXnfy"
      }
    },
    {
      "cell_type": "code",
      "source": [
        "import requests\n",
        "from bs4 import BeautifulSoup\n",
        "\n",
        "def get_soup(url):\n",
        "    try:\n",
        "        # Make a GET request to the URL\n",
        "        response = requests.get(url)\n",
        "        response.raise_for_status()  # Raise an exception for bad responses (4xx and 5xx)\n",
        "\n",
        "        # Parse the HTML content of the page\n",
        "        soup = BeautifulSoup(response.content, 'html.parser')\n",
        "        return soup\n",
        "\n",
        "    except requests.exceptions.RequestException as e:\n",
        "        print(f\"Error making request to {url}: {e}\")\n",
        "        return None\n",
        "\n",
        "# Example of using get_soup function\n",
        "product_url = \"https://brickset.com/sets/10312-1/Jazz-Club\"\n",
        "product_soup = get_soup(product_url)\n",
        "\n",
        "if product_soup:\n",
        "    # Extract the rating for the specific product page\n",
        "    rating_element = product_soup.find(\"span\", {\"class\": \"rating\"})\n",
        "    rating = rating_element.get_text() if rating_element else \"N/A\"\n",
        "    print(\"Rating for Jazz Club:\", rating)\n",
        "else:\n",
        "    print(f\"Failed to fetch {product_url}\")\n"
      ],
      "metadata": {
        "colab": {
          "base_uri": "https://localhost:8080/"
        },
        "id": "xmVoCZ5-Xtbe",
        "outputId": "ac68adf6-8e85-4ae3-a7be-be913cf9c7a7"
      },
      "execution_count": 73,
      "outputs": [
        {
          "output_type": "stream",
          "name": "stdout",
          "text": [
            "Rating for Jazz Club: ✭✭✭✭✭ 4.3\n"
          ]
        }
      ]
    },
    {
      "cell_type": "code",
      "source": [
        "import requests\n",
        "from bs4 import BeautifulSoup\n",
        "\n",
        "def get_soup(url):\n",
        "    try:\n",
        "        # Make a GET request to the URL\n",
        "        response = requests.get(url)\n",
        "        response.raise_for_status()  # Raise an exception for bad responses (4xx and 5xx)\n",
        "\n",
        "        # Parse the HTML content of the page\n",
        "        soup = BeautifulSoup(response.content, 'html.parser')\n",
        "        return soup\n",
        "\n",
        "    except requests.exceptions.RequestException as e:\n",
        "        print(f\"Error making request to {url}: {e}\")\n",
        "        return None\n",
        "\n",
        "# Example of using get_soup function\n",
        "product_url = \"https://brickset.com/sets/21164-1/The-Coral-Reef\"\n",
        "product_soup = get_soup(product_url)\n",
        "\n",
        "if product_soup:\n",
        "    # Extract the rating for the specific product page\n",
        "    rating_element = product_soup.find(\"span\", {\"class\": \"rating\"})\n",
        "    rating = rating_element.get_text() if rating_element else \"N/A\"\n",
        "    print(\"Rating for Coral-Reef:\", rating)\n",
        "else:\n",
        "    print(f\"Failed to fetch {product_url}\")\n"
      ],
      "metadata": {
        "colab": {
          "base_uri": "https://localhost:8080/"
        },
        "id": "W6sy7-Scm3Yp",
        "outputId": "275dfcf0-659e-43e1-c4aa-06ab6c81abee"
      },
      "execution_count": 78,
      "outputs": [
        {
          "output_type": "stream",
          "name": "stdout",
          "text": [
            "Rating for Coral-Reef: ✭✭✭✭✩ 4.0\n"
          ]
        }
      ]
    },
    {
      "cell_type": "code",
      "source": [
        "from bs4 import BeautifulSoup\n",
        "import requests\n",
        "\n",
        "def extract_reviews(url):\n",
        "    try:\n",
        "        response = requests.get(url)\n",
        "        soup = BeautifulSoup(response.text, 'html.parser')\n",
        "\n",
        "        review_elements = soup.find_all(\"li\", {\"class\": \"col\"})\n",
        "\n",
        "        if not review_elements:\n",
        "            print(f\"No reviews found for {url}\")\n",
        "            return None\n",
        "\n",
        "        reviews = []\n",
        "        for review_element in review_elements:\n",
        "            overall_rating = review_element.find(\"span\", {\"class\": \"full\"}).text.strip()\n",
        "            building_experience_rating = review_element.find(\"div\", text=\"Building experience\").find_next(\"span\", {\"class\": \"full\"}).text.strip()\n",
        "            parts_rating = review_element.find(\"div\", text=\"Parts\").find_next(\"span\", {\"class\": \"full\"}).text.strip()\n",
        "            playability_rating = review_element.find(\"div\", text=\"Playability\").find_next(\"span\", {\"class\": \"full\"}).text.strip()\n",
        "            value_for_money_rating = review_element.find(\"div\", text=\"Value for money\").find_next(\"span\", {\"class\": \"full\"}).text.strip()\n",
        "\n",
        "            review_title = review_element.find(\"h2\").text.strip()\n",
        "            author_name = review_element.find(\"div\", {\"class\": \"meta\"}).find(\"a\").text.strip()\n",
        "            review_date = review_element.find(\"time\").text.strip()\n",
        "            review_description = review_element.find(\"div\", {\"class\": \"description\"}).text.strip()\n",
        "\n",
        "            reviews.append({\n",
        "                \"overall_rating\": overall_rating,\n",
        "                \"building_experience_rating\": building_experience_rating,\n",
        "                \"parts_rating\": parts_rating,\n",
        "                \"playability_rating\": playability_rating,\n",
        "                \"value_for_money_rating\": value_for_money_rating,\n",
        "                \"review_title\": review_title,\n",
        "                \"author_name\": author_name,\n",
        "                \"review_date\": review_date,\n",
        "                \"review_description\": review_description\n",
        "            })\n",
        "\n",
        "        return reviews\n",
        "\n",
        "    except Exception as e:\n",
        "        print(f\"Error extracting reviews for {url}: {e}\")\n",
        "        return None\n",
        "\n",
        "# Example usage\n",
        "url = \"https://brickset.com/sets/21164-1/The-Coral-Reef\"\n",
        "reviews = extract_reviews(url)\n",
        "if reviews:\n",
        "    for review in reviews:\n",
        "        print(review)\n"
      ],
      "metadata": {
        "colab": {
          "base_uri": "https://localhost:8080/"
        },
        "id": "kwsQn56ynl1D",
        "outputId": "04e748a4-a7c7-4444-c95f-45f546d44eab"
      },
      "execution_count": 83,
      "outputs": [
        {
          "output_type": "stream",
          "name": "stdout",
          "text": [
            "No reviews found for https://brickset.com/sets/21164-1/The-Coral-Reef\n"
          ]
        }
      ]
    }
  ]
}